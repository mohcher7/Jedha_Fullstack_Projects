{
 "cells": [
  {
   "cell_type": "code",
   "execution_count": 1,
   "source": [
    "#Imports for data handling and visualization\r\n",
    "import pandas as pd\r\n",
    "import seaborn as sns\r\n",
    "import matplotlib.pyplot as plt\r\n",
    "import plotly.graph_objects as go"
   ],
   "outputs": [],
   "metadata": {}
  },
  {
   "cell_type": "code",
   "execution_count": 2,
   "source": [
    "df = pd.read_csv(\"Speed Dating Data.csv\",encoding = 'ISO-8859-1')"
   ],
   "outputs": [],
   "metadata": {}
  },
  {
   "cell_type": "code",
   "execution_count": 3,
   "source": [
    "#The speed dating experiment was set up in waves looking at the key document\r\n",
    "#We will focus on wave_1, the same can then be applied to the other waves\r\n",
    "\r\n",
    "df = df.loc[df[\"wave\"]==1,:]\r\n",
    "df.shape"
   ],
   "outputs": [
    {
     "output_type": "execute_result",
     "data": {
      "text/plain": [
       "(200, 195)"
      ]
     },
     "metadata": {},
     "execution_count": 3
    }
   ],
   "metadata": {}
  },
  {
   "cell_type": "code",
   "execution_count": 4,
   "source": [
    "#Let's check how many values are missing in the dataset, and drop the columns that are either empty or don't carry information\r\n",
    "\r\n",
    "for c in df.columns:\r\n",
    "    nc = df[c].isnull().sum()\r\n",
    "    print('Null count in column {} is {}'.format(c,nc))\r\n",
    "    if nc == 200:\r\n",
    "        df = df.drop(c,axis=1)\r\n",
    "\r\n",
    "df.shape"
   ],
   "outputs": [
    {
     "output_type": "stream",
     "name": "stdout",
     "text": [
      "Null count in column iid is 0\n",
      "Null count in column id is 0\n",
      "Null count in column gender is 0\n",
      "Null count in column idg is 0\n",
      "Null count in column condtn is 0\n",
      "Null count in column wave is 0\n",
      "Null count in column round is 0\n",
      "Null count in column position is 0\n",
      "Null count in column positin1 is 200\n",
      "Null count in column order is 0\n",
      "Null count in column partner is 0\n",
      "Null count in column pid is 0\n",
      "Null count in column match is 0\n",
      "Null count in column int_corr is 0\n",
      "Null count in column samerace is 0\n",
      "Null count in column age_o is 0\n",
      "Null count in column race_o is 0\n",
      "Null count in column pf_o_att is 0\n",
      "Null count in column pf_o_sin is 0\n",
      "Null count in column pf_o_int is 0\n",
      "Null count in column pf_o_fun is 0\n",
      "Null count in column pf_o_amb is 0\n",
      "Null count in column pf_o_sha is 0\n",
      "Null count in column dec_o is 0\n",
      "Null count in column attr_o is 1\n",
      "Null count in column sinc_o is 0\n",
      "Null count in column intel_o is 0\n",
      "Null count in column fun_o is 0\n",
      "Null count in column amb_o is 2\n",
      "Null count in column shar_o is 10\n",
      "Null count in column like_o is 0\n",
      "Null count in column prob_o is 3\n",
      "Null count in column met_o is 3\n",
      "Null count in column age is 0\n",
      "Null count in column field is 0\n",
      "Null count in column field_cd is 0\n",
      "Null count in column undergra is 200\n",
      "Null count in column mn_sat is 200\n",
      "Null count in column tuition is 200\n",
      "Null count in column race is 0\n",
      "Null count in column imprace is 0\n",
      "Null count in column imprelig is 0\n",
      "Null count in column from is 0\n",
      "Null count in column zipcode is 0\n",
      "Null count in column income is 80\n",
      "Null count in column goal is 0\n",
      "Null count in column date is 0\n",
      "Null count in column go_out is 0\n",
      "Null count in column career is 0\n",
      "Null count in column career_c is 30\n",
      "Null count in column sports is 0\n",
      "Null count in column tvsports is 0\n",
      "Null count in column exercise is 0\n",
      "Null count in column dining is 0\n",
      "Null count in column museums is 0\n",
      "Null count in column art is 0\n",
      "Null count in column hiking is 0\n",
      "Null count in column gaming is 0\n",
      "Null count in column clubbing is 0\n",
      "Null count in column reading is 0\n",
      "Null count in column tv is 0\n",
      "Null count in column theater is 0\n",
      "Null count in column movies is 0\n",
      "Null count in column concerts is 0\n",
      "Null count in column music is 0\n",
      "Null count in column shopping is 0\n",
      "Null count in column yoga is 0\n",
      "Null count in column exphappy is 0\n",
      "Null count in column expnum is 0\n",
      "Null count in column attr1_1 is 0\n",
      "Null count in column sinc1_1 is 0\n",
      "Null count in column intel1_1 is 0\n",
      "Null count in column fun1_1 is 0\n",
      "Null count in column amb1_1 is 0\n",
      "Null count in column shar1_1 is 0\n",
      "Null count in column attr4_1 is 200\n",
      "Null count in column sinc4_1 is 200\n",
      "Null count in column intel4_1 is 200\n",
      "Null count in column fun4_1 is 200\n",
      "Null count in column amb4_1 is 200\n",
      "Null count in column shar4_1 is 200\n",
      "Null count in column attr2_1 is 0\n",
      "Null count in column sinc2_1 is 0\n",
      "Null count in column intel2_1 is 0\n",
      "Null count in column fun2_1 is 0\n",
      "Null count in column amb2_1 is 0\n",
      "Null count in column shar2_1 is 0\n",
      "Null count in column attr3_1 is 0\n",
      "Null count in column sinc3_1 is 0\n",
      "Null count in column fun3_1 is 0\n",
      "Null count in column intel3_1 is 0\n",
      "Null count in column amb3_1 is 0\n",
      "Null count in column attr5_1 is 200\n",
      "Null count in column sinc5_1 is 200\n",
      "Null count in column intel5_1 is 200\n",
      "Null count in column fun5_1 is 200\n",
      "Null count in column amb5_1 is 200\n",
      "Null count in column dec is 0\n",
      "Null count in column attr is 1\n",
      "Null count in column sinc is 0\n",
      "Null count in column intel is 0\n",
      "Null count in column fun is 0\n",
      "Null count in column amb is 2\n",
      "Null count in column shar is 10\n",
      "Null count in column like is 0\n",
      "Null count in column prob is 3\n",
      "Null count in column met is 3\n",
      "Null count in column match_es is 80\n",
      "Null count in column attr1_s is 200\n",
      "Null count in column sinc1_s is 200\n",
      "Null count in column intel1_s is 200\n",
      "Null count in column fun1_s is 200\n",
      "Null count in column amb1_s is 200\n",
      "Null count in column shar1_s is 200\n",
      "Null count in column attr3_s is 200\n",
      "Null count in column sinc3_s is 200\n",
      "Null count in column intel3_s is 200\n",
      "Null count in column fun3_s is 200\n",
      "Null count in column amb3_s is 200\n",
      "Null count in column satis_2 is 60\n",
      "Null count in column length is 60\n",
      "Null count in column numdat_2 is 90\n",
      "Null count in column attr7_2 is 200\n",
      "Null count in column sinc7_2 is 200\n",
      "Null count in column intel7_2 is 200\n",
      "Null count in column fun7_2 is 200\n",
      "Null count in column amb7_2 is 200\n",
      "Null count in column shar7_2 is 200\n",
      "Null count in column attr1_2 is 60\n",
      "Null count in column sinc1_2 is 60\n",
      "Null count in column intel1_2 is 60\n",
      "Null count in column fun1_2 is 60\n",
      "Null count in column amb1_2 is 60\n",
      "Null count in column shar1_2 is 60\n",
      "Null count in column attr4_2 is 200\n",
      "Null count in column sinc4_2 is 200\n",
      "Null count in column intel4_2 is 200\n",
      "Null count in column fun4_2 is 200\n",
      "Null count in column amb4_2 is 200\n",
      "Null count in column shar4_2 is 200\n",
      "Null count in column attr2_2 is 200\n",
      "Null count in column sinc2_2 is 200\n",
      "Null count in column intel2_2 is 200\n",
      "Null count in column fun2_2 is 200\n",
      "Null count in column amb2_2 is 200\n",
      "Null count in column shar2_2 is 200\n",
      "Null count in column attr3_2 is 60\n",
      "Null count in column sinc3_2 is 60\n",
      "Null count in column intel3_2 is 60\n",
      "Null count in column fun3_2 is 60\n",
      "Null count in column amb3_2 is 60\n",
      "Null count in column attr5_2 is 200\n",
      "Null count in column sinc5_2 is 200\n",
      "Null count in column intel5_2 is 200\n",
      "Null count in column fun5_2 is 200\n",
      "Null count in column amb5_2 is 200\n",
      "Null count in column you_call is 100\n",
      "Null count in column them_cal is 100\n",
      "Null count in column date_3 is 100\n",
      "Null count in column numdat_3 is 200\n",
      "Null count in column num_in_3 is 200\n",
      "Null count in column attr1_3 is 100\n",
      "Null count in column sinc1_3 is 100\n",
      "Null count in column intel1_3 is 100\n",
      "Null count in column fun1_3 is 100\n",
      "Null count in column amb1_3 is 100\n",
      "Null count in column shar1_3 is 100\n",
      "Null count in column attr7_3 is 200\n",
      "Null count in column sinc7_3 is 200\n",
      "Null count in column intel7_3 is 200\n",
      "Null count in column fun7_3 is 200\n",
      "Null count in column amb7_3 is 200\n",
      "Null count in column shar7_3 is 200\n",
      "Null count in column attr4_3 is 200\n",
      "Null count in column sinc4_3 is 200\n",
      "Null count in column intel4_3 is 200\n",
      "Null count in column fun4_3 is 200\n",
      "Null count in column amb4_3 is 200\n",
      "Null count in column shar4_3 is 200\n",
      "Null count in column attr2_3 is 200\n",
      "Null count in column sinc2_3 is 200\n",
      "Null count in column intel2_3 is 200\n",
      "Null count in column fun2_3 is 200\n",
      "Null count in column amb2_3 is 200\n",
      "Null count in column shar2_3 is 200\n",
      "Null count in column attr3_3 is 100\n",
      "Null count in column sinc3_3 is 100\n",
      "Null count in column intel3_3 is 100\n",
      "Null count in column fun3_3 is 100\n",
      "Null count in column amb3_3 is 100\n",
      "Null count in column attr5_3 is 200\n",
      "Null count in column sinc5_3 is 200\n",
      "Null count in column intel5_3 is 200\n",
      "Null count in column fun5_3 is 200\n",
      "Null count in column amb5_3 is 200\n"
     ]
    },
    {
     "output_type": "execute_result",
     "data": {
      "text/plain": [
       "(200, 121)"
      ]
     },
     "metadata": {},
     "execution_count": 4
    }
   ],
   "metadata": {}
  },
  {
   "cell_type": "code",
   "execution_count": 5,
   "source": [
    "#Let's see the remaining columns \r\n",
    "for c in df.columns:\r\n",
    "    print(c)"
   ],
   "outputs": [
    {
     "output_type": "stream",
     "name": "stdout",
     "text": [
      "iid\n",
      "id\n",
      "gender\n",
      "idg\n",
      "condtn\n",
      "wave\n",
      "round\n",
      "position\n",
      "order\n",
      "partner\n",
      "pid\n",
      "match\n",
      "int_corr\n",
      "samerace\n",
      "age_o\n",
      "race_o\n",
      "pf_o_att\n",
      "pf_o_sin\n",
      "pf_o_int\n",
      "pf_o_fun\n",
      "pf_o_amb\n",
      "pf_o_sha\n",
      "dec_o\n",
      "attr_o\n",
      "sinc_o\n",
      "intel_o\n",
      "fun_o\n",
      "amb_o\n",
      "shar_o\n",
      "like_o\n",
      "prob_o\n",
      "met_o\n",
      "age\n",
      "field\n",
      "field_cd\n",
      "race\n",
      "imprace\n",
      "imprelig\n",
      "from\n",
      "zipcode\n",
      "income\n",
      "goal\n",
      "date\n",
      "go_out\n",
      "career\n",
      "career_c\n",
      "sports\n",
      "tvsports\n",
      "exercise\n",
      "dining\n",
      "museums\n",
      "art\n",
      "hiking\n",
      "gaming\n",
      "clubbing\n",
      "reading\n",
      "tv\n",
      "theater\n",
      "movies\n",
      "concerts\n",
      "music\n",
      "shopping\n",
      "yoga\n",
      "exphappy\n",
      "expnum\n",
      "attr1_1\n",
      "sinc1_1\n",
      "intel1_1\n",
      "fun1_1\n",
      "amb1_1\n",
      "shar1_1\n",
      "attr2_1\n",
      "sinc2_1\n",
      "intel2_1\n",
      "fun2_1\n",
      "amb2_1\n",
      "shar2_1\n",
      "attr3_1\n",
      "sinc3_1\n",
      "fun3_1\n",
      "intel3_1\n",
      "amb3_1\n",
      "dec\n",
      "attr\n",
      "sinc\n",
      "intel\n",
      "fun\n",
      "amb\n",
      "shar\n",
      "like\n",
      "prob\n",
      "met\n",
      "match_es\n",
      "satis_2\n",
      "length\n",
      "numdat_2\n",
      "attr1_2\n",
      "sinc1_2\n",
      "intel1_2\n",
      "fun1_2\n",
      "amb1_2\n",
      "shar1_2\n",
      "attr3_2\n",
      "sinc3_2\n",
      "intel3_2\n",
      "fun3_2\n",
      "amb3_2\n",
      "you_call\n",
      "them_cal\n",
      "date_3\n",
      "attr1_3\n",
      "sinc1_3\n",
      "intel1_3\n",
      "fun1_3\n",
      "amb1_3\n",
      "shar1_3\n",
      "attr3_3\n",
      "sinc3_3\n",
      "intel3_3\n",
      "fun3_3\n",
      "amb3_3\n"
     ]
    }
   ],
   "metadata": {}
  },
  {
   "cell_type": "code",
   "execution_count": 6,
   "source": [
    "#Let's visualize the gender and ages distributions in this wave\r\n",
    "\r\n",
    "sns.countplot(df[\"gender\"])"
   ],
   "outputs": [
    {
     "output_type": "stream",
     "name": "stderr",
     "text": [
      "C:\\Users\\Mohamed\\AppData\\Local\\Programs\\Python\\Python39\\lib\\site-packages\\seaborn\\_decorators.py:36: FutureWarning: Pass the following variable as a keyword arg: x. From version 0.12, the only valid positional argument will be `data`, and passing other arguments without an explicit keyword will result in an error or misinterpretation.\n",
      "  warnings.warn(\n"
     ]
    },
    {
     "output_type": "execute_result",
     "data": {
      "text/plain": [
       "<AxesSubplot:xlabel='gender', ylabel='count'>"
      ]
     },
     "metadata": {},
     "execution_count": 6
    },
    {
     "output_type": "display_data",
     "data": {
      "image/png": "[encoded data removed]",
      "text/plain": [
       "<Figure size 432x288 with 1 Axes>"
      ]
     },
     "metadata": {
      "needs_background": "light"
     }
    }
   ],
   "metadata": {}
  },
  {
   "cell_type": "code",
   "execution_count": 7,
   "source": [
    "#We have an equal distribution of males and females in this wave\r\n",
    "sns.distplot(df[\"age\"],kde=False)"
   ],
   "outputs": [
    {
     "output_type": "stream",
     "name": "stderr",
     "text": [
      "C:\\Users\\Mohamed\\AppData\\Local\\Programs\\Python\\Python39\\lib\\site-packages\\seaborn\\distributions.py:2557: FutureWarning: `distplot` is a deprecated function and will be removed in a future version. Please adapt your code to use either `displot` (a figure-level function with similar flexibility) or `histplot` (an axes-level function for histograms).\n",
      "  warnings.warn(msg, FutureWarning)\n"
     ]
    },
    {
     "output_type": "execute_result",
     "data": {
      "text/plain": [
       "<AxesSubplot:xlabel='age'>"
      ]
     },
     "metadata": {},
     "execution_count": 7
    },
    {
     "output_type": "display_data",
     "data": {
      "image/png": "[encoded data removed]",
      "text/plain": [
       "<Figure size 432x288 with 1 Axes>"
      ]
     },
     "metadata": {
      "needs_background": "light"
     }
    }
   ],
   "metadata": {}
  },
  {
   "cell_type": "code",
   "execution_count": 8,
   "source": [
    "#Everyone is between 20 and 30 years old, a young wave\r\n",
    "#Let's look at what attributes are most important for the opposite gender\r\n",
    "#First let's look at what males look for\r\n",
    "\r\n",
    "df_pf_m = df.loc[df[\"gender\"]==0,[\"pf_o_att\",\"pf_o_sin\",\"pf_o_int\",\"pf_o_fun\",\"pf_o_amb\",\"pf_o_sha\"]]\r\n",
    "\r\n",
    "plt.figure(figsize=(15,15))\r\n",
    "plt.subplot(231)\r\n",
    "plt.hist(df_pf_m[\"pf_o_att\"])\r\n",
    "plt.title(\"Attractiveness attribute distribution for males\")\r\n",
    "plt.subplot(232)\r\n",
    "plt.hist(df_pf_m[\"pf_o_sin\"])\r\n",
    "plt.title(\"Sincereness attribute distribution for males\")\r\n",
    "plt.subplot(233)\r\n",
    "plt.hist(df_pf_m[\"pf_o_int\"])\r\n",
    "plt.title(\"Intelligence attribute distribution for males\")\r\n",
    "plt.subplot(234)\r\n",
    "plt.hist(df_pf_m[\"pf_o_fun\"])\r\n",
    "plt.title(\"Fun attribute distribution for males\")\r\n",
    "plt.subplot(235)\r\n",
    "plt.hist(df_pf_m[\"pf_o_amb\"])\r\n",
    "plt.title(\"Ambitious attribute distribution for males\")\r\n",
    "plt.subplot(236)\r\n",
    "plt.hist(df_pf_m[\"pf_o_sha\"])\r\n",
    "plt.title(\"Shared interest attribute distribution for males\")\r\n",
    "\r\n",
    "#Males look for attractive and intelligent partners\r\n"
   ],
   "outputs": [
    {
     "output_type": "execute_result",
     "data": {
      "text/plain": [
       "Text(0.5, 1.0, 'Shared interest attribute distribution for males')"
      ]
     },
     "metadata": {},
     "execution_count": 8
    },
    {
     "output_type": "display_data",
     "data": {
      "image/png": "[encoded data removed]",
      "text/plain": [
       "<Figure size 1080x1080 with 6 Axes>"
      ]
     },
     "metadata": {
      "needs_background": "light"
     }
    }
   ],
   "metadata": {}
  },
  {
   "cell_type": "code",
   "execution_count": 9,
   "source": [
    "#Let's do the same analysis for females\r\n",
    "\r\n",
    "df_pf_m = df.loc[df[\"gender\"]==1,[\"pf_o_att\",\"pf_o_sin\",\"pf_o_int\",\"pf_o_fun\",\"pf_o_amb\",\"pf_o_sha\"]]\r\n",
    "\r\n",
    "plt.figure(figsize=(15,15))\r\n",
    "plt.subplot(231)\r\n",
    "plt.hist(df_pf_m[\"pf_o_att\"])\r\n",
    "plt.title(\"Attractiveness attribute distribution for females\")\r\n",
    "plt.subplot(232)\r\n",
    "plt.hist(df_pf_m[\"pf_o_sin\"])\r\n",
    "plt.title(\"Sincereness attribute distribution for females\")\r\n",
    "plt.subplot(233)\r\n",
    "plt.hist(df_pf_m[\"pf_o_int\"])\r\n",
    "plt.title(\"Intelligence attribute distribution for females\")\r\n",
    "plt.subplot(234)\r\n",
    "plt.hist(df_pf_m[\"pf_o_fun\"])\r\n",
    "plt.title(\"Fun attribute distribution for females\")\r\n",
    "plt.subplot(235)\r\n",
    "plt.hist(df_pf_m[\"pf_o_amb\"])\r\n",
    "plt.title(\"Ambitious attribute distribution for females\")\r\n",
    "plt.subplot(236)\r\n",
    "plt.hist(df_pf_m[\"pf_o_sha\"])\r\n",
    "plt.title(\"Shared interest attribute distribution for females\")\r\n",
    "\r\n",
    "#Females look for males with a bit of everything"
   ],
   "outputs": [
    {
     "output_type": "execute_result",
     "data": {
      "text/plain": [
       "Text(0.5, 1.0, 'Shared interest attribute distribution for females')"
      ]
     },
     "metadata": {},
     "execution_count": 9
    },
    {
     "output_type": "display_data",
     "data": {
      "image/png": "[encoded data removed]",
      "text/plain": [
       "<Figure size 1080x1080 with 6 Axes>"
      ]
     },
     "metadata": {
      "needs_background": "light"
     }
    }
   ],
   "metadata": {}
  },
  {
   "cell_type": "code",
   "execution_count": 10,
   "source": [
    "df = df.sort_values(by=\"age\",ignore_index=True)\r\n",
    "df[\"age\"].unique()"
   ],
   "outputs": [
    {
     "output_type": "execute_result",
     "data": {
      "text/plain": [
       "array([21., 22., 23., 24., 25., 26., 27., 28., 30.])"
      ]
     },
     "metadata": {},
     "execution_count": 10
    }
   ],
   "metadata": {}
  },
  {
   "cell_type": "code",
   "execution_count": 11,
   "source": [
    "#Let's now look at where in the age range of this wave the most positive answers have been\r\n",
    "\r\n",
    "fig = go.Figure()\r\n",
    "\r\n",
    "for i in df[\"age\"].unique():\r\n",
    "\r\n",
    "    df_au = df.loc[df[\"age\"]==i,:]\r\n",
    "\r\n",
    "    fig.add_trace(go.Histogram(x=df_au[\"dec_o\"],visible=True))\r\n",
    "\r\n",
    "fig.update_layout(title=go.layout.Title(text=\"Partner decision by age 1=yes and 0=no\",x=0.5),showlegend=False)\r\n",
    "\r\n",
    "fig.update_layout(updatemenus = [go.layout.Updatemenu(active=0,buttons=[\r\n",
    "    go.layout.updatemenu.Button(\r\n",
    "        label=\"21\",method=\"update\",args=[{\"visible\":[True,False,False,False,False,False,False,False,False]}]),\r\n",
    "    go.layout.updatemenu.Button(\r\n",
    "        label=\"22\",method=\"update\",args=[{\"visible\":[False,True,False,False,False,False,False,False,False]}]),\r\n",
    "    go.layout.updatemenu.Button(\r\n",
    "        label=\"23\",method=\"update\",args=[{\"visible\":[False,False,True,False,False,False,False,False,False]}]),\r\n",
    "    go.layout.updatemenu.Button(\r\n",
    "        label=\"24\",method=\"update\",args=[{\"visible\":[False,False,False,True,False,False,False,False,False]}]),\r\n",
    "    go.layout.updatemenu.Button(\r\n",
    "        label=\"25\",method=\"update\",args=[{\"visible\":[False,False,False,False,True,False,False,False,False]}]),\r\n",
    "    go.layout.updatemenu.Button(\r\n",
    "        label=\"26\",method=\"update\",args=[{\"visible\":[False,False,False,False,False,True,False,False,False]}]),\r\n",
    "    go.layout.updatemenu.Button(\r\n",
    "        label=\"27\",method=\"update\",args=[{\"visible\":[False,False,False,False,False,False,True,False,False]}]),\r\n",
    "    go.layout.updatemenu.Button(\r\n",
    "        label=\"28\",method=\"update\",args=[{\"visible\":[False,False,False,False,False,False,False,True,False]}]),\r\n",
    "    go.layout.updatemenu.Button(\r\n",
    "        label=\"30\",method=\"update\",args=[{\"visible\":[False,False,False,False,False,False,False,False,True]}]),\r\n",
    "])])\r\n",
    "    "
   ],
   "outputs": [
    {
     "output_type": "display_data",
     "data": {
      "application/vnd.plotly.v1+json": {
       "config": {
        "plotlyServerURL": "https://plot.ly"
       },
       "data": [
        {
         "type": "histogram",
         "visible": true,
         "x": [
          0,
          1,
          0,
          0,
          0,
          0,
          1,
          1,
          0,
          0,
          0,
          1,
          0,
          0,
          1,
          1,
          1,
          0,
          1,
          0
         ]
        },
        {
         "type": "histogram",
         "visible": true,
         "x": [
          1,
          1,
          1,
          1,
          1,
          1,
          0,
          1,
          1,
          1,
          0,
          1,
          0,
          1,
          0,
          1,
          1,
          0,
          0,
          1,
          0,
          0,
          0,
          0,
          0,
          0,
          1,
          0,
          0,
          0
         ]
        },
        {
         "type": "histogram",
         "visible": true,
         "x": [
          1,
          1,
          1,
          1,
          1,
          0,
          1,
          1,
          1,
          0,
          1,
          1,
          1,
          0,
          1,
          0,
          1,
          0,
          0,
          1,
          0,
          0,
          0,
          1,
          1,
          1,
          1,
          0,
          0,
          1
         ]
        },
        {
         "type": "histogram",
         "visible": true,
         "x": [
          1,
          1,
          1,
          1,
          1,
          0,
          1,
          1,
          0,
          1,
          1,
          0,
          0,
          0,
          0,
          0,
          0,
          1,
          1,
          1,
          1,
          1,
          0,
          1,
          1,
          0,
          1,
          0,
          1,
          0
         ]
        },
        {
         "type": "histogram",
         "visible": true,
         "x": [
          0,
          0,
          1,
          1,
          1,
          1,
          1,
          0,
          1,
          1,
          1,
          0,
          1,
          1,
          1,
          0,
          0,
          1,
          0,
          0,
          0,
          0,
          1,
          0,
          0,
          1,
          1,
          0,
          1,
          0
         ]
        },
        {
         "type": "histogram",
         "visible": true,
         "x": [
          1,
          0,
          1,
          0,
          0,
          0,
          1,
          1,
          1,
          0,
          0,
          0,
          1,
          0,
          1,
          1,
          1,
          1,
          1,
          0
         ]
        },
        {
         "type": "histogram",
         "visible": true,
         "x": [
          0,
          1,
          1,
          0,
          1,
          0,
          0,
          1,
          0,
          0,
          0,
          0,
          1,
          1,
          0,
          0,
          0,
          0,
          1,
          0
         ]
        },
        {
         "type": "histogram",
         "visible": true,
         "x": [
          1,
          1,
          1,
          1,
          1,
          1,
          0,
          1,
          1,
          1
         ]
        },
        {
         "type": "histogram",
         "visible": true,
         "x": [
          1,
          1,
          1,
          1,
          1,
          0,
          0,
          1,
          1,
          1
         ]
        }
       ],
       "layout": {
        "showlegend": false,
        "template": {
         "data": {
          "bar": [
           {
            "error_x": {
             "color": "#2a3f5f"
            },
            "error_y": {
             "color": "#2a3f5f"
            },
            "marker": {
             "line": {
              "color": "#E5ECF6",
              "width": 0.5
             },
             "pattern": {
              "fillmode": "overlay",
              "size": 10,
              "solidity": 0.2
             }
            },
            "type": "bar"
           }
          ],
          "barpolar": [
           {
            "marker": {
             "line": {
              "color": "#E5ECF6",
              "width": 0.5
             },
             "pattern": {
              "fillmode": "overlay",
              "size": 10,
              "solidity": 0.2
             }
            },
            "type": "barpolar"
           }
          ],
          "carpet": [
           {
            "aaxis": {
             "endlinecolor": "#2a3f5f",
             "gridcolor": "white",
             "linecolor": "white",
             "minorgridcolor": "white",
             "startlinecolor": "#2a3f5f"
            },
            "baxis": {
             "endlinecolor": "#2a3f5f",
             "gridcolor": "white",
             "linecolor": "white",
             "minorgridcolor": "white",
             "startlinecolor": "#2a3f5f"
            },
            "type": "carpet"
           }
          ],
          "choropleth": [
           {
            "colorbar": {
             "outlinewidth": 0,
             "ticks": ""
            },
            "type": "choropleth"
           }
          ],
          "contour": [
           {
            "colorbar": {
             "outlinewidth": 0,
             "ticks": ""
            },
            "colorscale": [
             [
              0,
              "#0d0887"
             ],
             [
              0.1111111111111111,
              "#46039f"
             ],
             [
              0.2222222222222222,
              "#7201a8"
             ],
             [
              0.3333333333333333,
              "#9c179e"
             ],
             [
              0.4444444444444444,
              "#bd3786"
             ],
             [
              0.5555555555555556,
              "#d8576b"
             ],
             [
              0.6666666666666666,
              "#ed7953"
             ],
             [
              0.7777777777777778,
              "#fb9f3a"
             ],
             [
              0.8888888888888888,
              "#fdca26"
             ],
             [
              1,
              "#f0f921"
             ]
            ],
            "type": "contour"
           }
          ],
          "contourcarpet": [
           {
            "colorbar": {
             "outlinewidth": 0,
             "ticks": ""
            },
            "type": "contourcarpet"
           }
          ],
          "heatmap": [
           {
            "colorbar": {
             "outlinewidth": 0,
             "ticks": ""
            },
            "colorscale": [
             [
              0,
              "#0d0887"
             ],
             [
              0.1111111111111111,
              "#46039f"
             ],
             [
              0.2222222222222222,
              "#7201a8"
             ],
             [
              0.3333333333333333,
              "#9c179e"
             ],
             [
              0.4444444444444444,
              "#bd3786"
             ],
             [
              0.5555555555555556,
              "#d8576b"
             ],
             [
              0.6666666666666666,
              "#ed7953"
             ],
             [
              0.7777777777777778,
              "#fb9f3a"
             ],
             [
              0.8888888888888888,
              "#fdca26"
             ],
             [
              1,
              "#f0f921"
             ]
            ],
            "type": "heatmap"
           }
          ],
          "heatmapgl": [
           {
            "colorbar": {
             "outlinewidth": 0,
             "ticks": ""
            },
            "colorscale": [
             [
              0,
              "#0d0887"
             ],
             [
              0.1111111111111111,
              "#46039f"
             ],
             [
              0.2222222222222222,
              "#7201a8"
             ],
             [
              0.3333333333333333,
              "#9c179e"
             ],
             [
              0.4444444444444444,
              "#bd3786"
             ],
             [
              0.5555555555555556,
              "#d8576b"
             ],
             [
              0.6666666666666666,
              "#ed7953"
             ],
             [
              0.7777777777777778,
              "#fb9f3a"
             ],
             [
              0.8888888888888888,
              "#fdca26"
             ],
             [
              1,
              "#f0f921"
             ]
            ],
            "type": "heatmapgl"
           }
          ],
          "histogram": [
           {
            "marker": {
             "pattern": {
              "fillmode": "overlay",
              "size": 10,
              "solidity": 0.2
             }
            },
            "type": "histogram"
           }
          ],
          "histogram2d": [
           {
            "colorbar": {
             "outlinewidth": 0,
             "ticks": ""
            },
            "colorscale": [
             [
              0,
              "#0d0887"
             ],
             [
              0.1111111111111111,
              "#46039f"
             ],
             [
              0.2222222222222222,
              "#7201a8"
             ],
             [
              0.3333333333333333,
              "#9c179e"
             ],
             [
              0.4444444444444444,
              "#bd3786"
             ],
             [
              0.5555555555555556,
              "#d8576b"
             ],
             [
              0.6666666666666666,
              "#ed7953"
             ],
             [
              0.7777777777777778,
              "#fb9f3a"
             ],
             [
              0.8888888888888888,
              "#fdca26"
             ],
             [
              1,
              "#f0f921"
             ]
            ],
            "type": "histogram2d"
           }
          ],
          "histogram2dcontour": [
           {
            "colorbar": {
             "outlinewidth": 0,
             "ticks": ""
            },
            "colorscale": [
             [
              0,
              "#0d0887"
             ],
             [
              0.1111111111111111,
              "#46039f"
             ],
             [
              0.2222222222222222,
              "#7201a8"
             ],
             [
              0.3333333333333333,
              "#9c179e"
             ],
             [
              0.4444444444444444,
              "#bd3786"
             ],
             [
              0.5555555555555556,
              "#d8576b"
             ],
             [
              0.6666666666666666,
              "#ed7953"
             ],
             [
              0.7777777777777778,
              "#fb9f3a"
             ],
             [
              0.8888888888888888,
              "#fdca26"
             ],
             [
              1,
              "#f0f921"
             ]
            ],
            "type": "histogram2dcontour"
           }
          ],
          "mesh3d": [
           {
            "colorbar": {
             "outlinewidth": 0,
             "ticks": ""
            },
            "type": "mesh3d"
           }
          ],
          "parcoords": [
           {
            "line": {
             "colorbar": {
              "outlinewidth": 0,
              "ticks": ""
             }
            },
            "type": "parcoords"
           }
          ],
          "pie": [
           {
            "automargin": true,
            "type": "pie"
           }
          ],
          "scatter": [
           {
            "marker": {
             "colorbar": {
              "outlinewidth": 0,
              "ticks": ""
             }
            },
            "type": "scatter"
           }
          ],
          "scatter3d": [
           {
            "line": {
             "colorbar": {
              "outlinewidth": 0,
              "ticks": ""
             }
            },
            "marker": {
             "colorbar": {
              "outlinewidth": 0,
              "ticks": ""
             }
            },
            "type": "scatter3d"
           }
          ],
          "scattercarpet": [
           {
            "marker": {
             "colorbar": {
              "outlinewidth": 0,
              "ticks": ""
             }
            },
            "type": "scattercarpet"
           }
          ],
          "scattergeo": [
           {
            "marker": {
             "colorbar": {
              "outlinewidth": 0,
              "ticks": ""
             }
            },
            "type": "scattergeo"
           }
          ],
          "scattergl": [
           {
            "marker": {
             "colorbar": {
              "outlinewidth": 0,
              "ticks": ""
             }
            },
            "type": "scattergl"
           }
          ],
          "scattermapbox": [
           {
            "marker": {
             "colorbar": {
              "outlinewidth": 0,
              "ticks": ""
             }
            },
            "type": "scattermapbox"
           }
          ],
          "scatterpolar": [
           {
            "marker": {
             "colorbar": {
              "outlinewidth": 0,
              "ticks": ""
             }
            },
            "type": "scatterpolar"
           }
          ],
          "scatterpolargl": [
           {
            "marker": {
             "colorbar": {
              "outlinewidth": 0,
              "ticks": ""
             }
            },
            "type": "scatterpolargl"
           }
          ],
          "scatterternary": [
           {
            "marker": {
             "colorbar": {
              "outlinewidth": 0,
              "ticks": ""
             }
            },
            "type": "scatterternary"
           }
          ],
          "surface": [
           {
            "colorbar": {
             "outlinewidth": 0,
             "ticks": ""
            },
            "colorscale": [
             [
              0,
              "#0d0887"
             ],
             [
              0.1111111111111111,
              "#46039f"
             ],
             [
              0.2222222222222222,
              "#7201a8"
             ],
             [
              0.3333333333333333,
              "#9c179e"
             ],
             [
              0.4444444444444444,
              "#bd3786"
             ],
             [
              0.5555555555555556,
              "#d8576b"
             ],
             [
              0.6666666666666666,
              "#ed7953"
             ],
             [
              0.7777777777777778,
              "#fb9f3a"
             ],
             [
              0.8888888888888888,
              "#fdca26"
             ],
             [
              1,
              "#f0f921"
             ]
            ],
            "type": "surface"
           }
          ],
          "table": [
           {
            "cells": {
             "fill": {
              "color": "#EBF0F8"
             },
             "line": {
              "color": "white"
             }
            },
            "header": {
             "fill": {
              "color": "#C8D4E3"
             },
             "line": {
              "color": "white"
             }
            },
            "type": "table"
           }
          ]
         },
         "layout": {
          "annotationdefaults": {
           "arrowcolor": "#2a3f5f",
           "arrowhead": 0,
           "arrowwidth": 1
          },
          "autotypenumbers": "strict",
          "coloraxis": {
           "colorbar": {
            "outlinewidth": 0,
            "ticks": ""
           }
          },
          "colorscale": {
           "diverging": [
            [
             0,
             "#8e0152"
            ],
            [
             0.1,
             "#c51b7d"
            ],
            [
             0.2,
             "#de77ae"
            ],
            [
             0.3,
             "#f1b6da"
            ],
            [
             0.4,
             "#fde0ef"
            ],
            [
             0.5,
             "#f7f7f7"
            ],
            [
             0.6,
             "#e6f5d0"
            ],
            [
             0.7,
             "#b8e186"
            ],
            [
             0.8,
             "#7fbc41"
            ],
            [
             0.9,
             "#4d9221"
            ],
            [
             1,
             "#276419"
            ]
           ],
           "sequential": [
            [
             0,
             "#0d0887"
            ],
            [
             0.1111111111111111,
             "#46039f"
            ],
            [
             0.2222222222222222,
             "#7201a8"
            ],
            [
             0.3333333333333333,
             "#9c179e"
            ],
            [
             0.4444444444444444,
             "#bd3786"
            ],
            [
             0.5555555555555556,
             "#d8576b"
            ],
            [
             0.6666666666666666,
             "#ed7953"
            ],
            [
             0.7777777777777778,
             "#fb9f3a"
            ],
            [
             0.8888888888888888,
             "#fdca26"
            ],
            [
             1,
             "#f0f921"
            ]
           ],
           "sequentialminus": [
            [
             0,
             "#0d0887"
            ],
            [
             0.1111111111111111,
             "#46039f"
            ],
            [
             0.2222222222222222,
             "#7201a8"
            ],
            [
             0.3333333333333333,
             "#9c179e"
            ],
            [
             0.4444444444444444,
             "#bd3786"
            ],
            [
             0.5555555555555556,
             "#d8576b"
            ],
            [
             0.6666666666666666,
             "#ed7953"
            ],
            [
             0.7777777777777778,
             "#fb9f3a"
            ],
            [
             0.8888888888888888,
             "#fdca26"
            ],
            [
             1,
             "#f0f921"
            ]
           ]
          },
          "colorway": [
           "#636efa",
           "#EF553B",
           "#00cc96",
           "#ab63fa",
           "#FFA15A",
           "#19d3f3",
           "#FF6692",
           "#B6E880",
           "#FF97FF",
           "#FECB52"
          ],
          "font": {
           "color": "#2a3f5f"
          },
          "geo": {
           "bgcolor": "white",
           "lakecolor": "white",
           "landcolor": "#E5ECF6",
           "showlakes": true,
           "showland": true,
           "subunitcolor": "white"
          },
          "hoverlabel": {
           "align": "left"
          },
          "hovermode": "closest",
          "mapbox": {
           "style": "light"
          },
          "paper_bgcolor": "white",
          "plot_bgcolor": "#E5ECF6",
          "polar": {
           "angularaxis": {
            "gridcolor": "white",
            "linecolor": "white",
            "ticks": ""
           },
           "bgcolor": "#E5ECF6",
           "radialaxis": {
            "gridcolor": "white",
            "linecolor": "white",
            "ticks": ""
           }
          },
          "scene": {
           "xaxis": {
            "backgroundcolor": "#E5ECF6",
            "gridcolor": "white",
            "gridwidth": 2,
            "linecolor": "white",
            "showbackground": true,
            "ticks": "",
            "zerolinecolor": "white"
           },
           "yaxis": {
            "backgroundcolor": "#E5ECF6",
            "gridcolor": "white",
            "gridwidth": 2,
            "linecolor": "white",
            "showbackground": true,
            "ticks": "",
            "zerolinecolor": "white"
           },
           "zaxis": {
            "backgroundcolor": "#E5ECF6",
            "gridcolor": "white",
            "gridwidth": 2,
            "linecolor": "white",
            "showbackground": true,
            "ticks": "",
            "zerolinecolor": "white"
           }
          },
          "shapedefaults": {
           "line": {
            "color": "#2a3f5f"
           }
          },
          "ternary": {
           "aaxis": {
            "gridcolor": "white",
            "linecolor": "white",
            "ticks": ""
           },
           "baxis": {
            "gridcolor": "white",
            "linecolor": "white",
            "ticks": ""
           },
           "bgcolor": "#E5ECF6",
           "caxis": {
            "gridcolor": "white",
            "linecolor": "white",
            "ticks": ""
           }
          },
          "title": {
           "x": 0.05
          },
          "xaxis": {
           "automargin": true,
           "gridcolor": "white",
           "linecolor": "white",
           "ticks": "",
           "title": {
            "standoff": 15
           },
           "zerolinecolor": "white",
           "zerolinewidth": 2
          },
          "yaxis": {
           "automargin": true,
           "gridcolor": "white",
           "linecolor": "white",
           "ticks": "",
           "title": {
            "standoff": 15
           },
           "zerolinecolor": "white",
           "zerolinewidth": 2
          }
         }
        },
        "title": {
         "text": "Partner decision by age 1=yes and 0=no",
         "x": 0.5
        },
        "updatemenus": [
         {
          "active": 0,
          "buttons": [
           {
            "args": [
             {
              "visible": [
               true,
               false,
               false,
               false,
               false,
               false,
               false,
               false,
               false
              ]
             }
            ],
            "label": "21",
            "method": "update"
           },
           {
            "args": [
             {
              "visible": [
               false,
               true,
               false,
               false,
               false,
               false,
               false,
               false,
               false
              ]
             }
            ],
            "label": "22",
            "method": "update"
           },
           {
            "args": [
             {
              "visible": [
               false,
               false,
               true,
               false,
               false,
               false,
               false,
               false,
               false
              ]
             }
            ],
            "label": "23",
            "method": "update"
           },
           {
            "args": [
             {
              "visible": [
               false,
               false,
               false,
               true,
               false,
               false,
               false,
               false,
               false
              ]
             }
            ],
            "label": "24",
            "method": "update"
           },
           {
            "args": [
             {
              "visible": [
               false,
               false,
               false,
               false,
               true,
               false,
               false,
               false,
               false
              ]
             }
            ],
            "label": "25",
            "method": "update"
           },
           {
            "args": [
             {
              "visible": [
               false,
               false,
               false,
               false,
               false,
               true,
               false,
               false,
               false
              ]
             }
            ],
            "label": "26",
            "method": "update"
           },
           {
            "args": [
             {
              "visible": [
               false,
               false,
               false,
               false,
               false,
               false,
               true,
               false,
               false
              ]
             }
            ],
            "label": "27",
            "method": "update"
           },
           {
            "args": [
             {
              "visible": [
               false,
               false,
               false,
               false,
               false,
               false,
               false,
               true,
               false
              ]
             }
            ],
            "label": "28",
            "method": "update"
           },
           {
            "args": [
             {
              "visible": [
               false,
               false,
               false,
               false,
               false,
               false,
               false,
               false,
               true
              ]
             }
            ],
            "label": "30",
            "method": "update"
           }
          ]
         }
        ]
       }
      }
     },
     "metadata": {}
    }
   ],
   "metadata": {}
  },
  {
   "cell_type": "code",
   "execution_count": 12,
   "source": [
    "#23 year olds said yes the most with 19 occurences"
   ],
   "outputs": [],
   "metadata": {}
  }
 ],
 "metadata": {
  "orig_nbformat": 4,
  "language_info": {
   "name": "python",
   "version": "3.9.6",
   "mimetype": "text/x-python",
   "codemirror_mode": {
    "name": "ipython",
    "version": 3
   },
   "pygments_lexer": "ipython3",
   "nbconvert_exporter": "python",
   "file_extension": ".py"
  },
  "kernelspec": {
   "name": "python3",
   "display_name": "Python 3.9.6 64-bit"
  },
  "interpreter": {
   "hash": "48b0d93754f01b8cd096afaa5b79113d35e8de390bfd99a8a89ccbe21ec7019c"
  }
 },
 "nbformat": 4,
 "nbformat_minor": 2
}