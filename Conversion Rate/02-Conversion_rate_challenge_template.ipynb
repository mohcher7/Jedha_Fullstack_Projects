{
 "cells": [
  {
   "cell_type": "code",
   "execution_count": 5,
   "source": [
    "#Imports for data handling and visualisation\r\n",
    "import pandas as pd\r\n",
    "import numpy as np\r\n",
    "import matplotlib.pyplot as plt\r\n",
    "import plotly.express as px\r\n",
    "import plotly.graph_objects as go\r\n",
    "import plotly.io as pio\r\n",
    "import seaborn as sns\r\n",
    "# setting Jedha color palette as default\r\n",
    "pio.templates[\"jedha\"] = go.layout.Template(\r\n",
    "    layout_colorway=[\"#4B9AC7\", \"#4BE8E0\", \"#9DD4F3\", \"#97FBF6\", \"#2A7FAF\", \"#23B1AB\", \"#0E3449\", \"#015955\"]\r\n",
    ")\r\n",
    "pio.templates.default = \"jedha\"\r\n",
    "pio.renderers.default = \"vscode\" # to be replaced by \"iframe\" if working on JULIE\r\n",
    "from IPython.display import display\r\n",
    "\r\n",
    "#Import for models and metrics\r\n",
    "from sklearn.model_selection import train_test_split\r\n",
    "from sklearn.impute import SimpleImputer\r\n",
    "from sklearn.preprocessing import StandardScaler\r\n",
    "from sklearn.compose import ColumnTransformer\r\n",
    "from sklearn.linear_model import LogisticRegression\r\n",
    "from sklearn.metrics import f1_score, confusion_matrix\r\n",
    "\r\n"
   ],
   "outputs": [],
   "metadata": {
    "colab": {},
    "colab_type": "code",
    "id": "AGhdl7Bt2xZd"
   }
  },
  {
   "cell_type": "markdown",
   "source": [
    "# Read file with labels"
   ],
   "metadata": {
    "colab_type": "text",
    "id": "LHgro65rxKF7"
   }
  },
  {
   "cell_type": "code",
   "execution_count": 2,
   "source": [
    "data = pd.read_csv('conversion_data_train.csv')\r\n",
    "print('Set with labels (our train+test) :', data.shape)"
   ],
   "outputs": [
    {
     "output_type": "stream",
     "name": "stdout",
     "text": [
      "Set with labels (our train+test) : (284580, 6)\n"
     ]
    }
   ],
   "metadata": {
    "colab": {
     "base_uri": "https://localhost:8080/",
     "height": 34
    },
    "colab_type": "code",
    "id": "W1AU8AH8u0qd",
    "outputId": "00698a97-027b-493b-a2e4-33fdcc295abb"
   }
  },
  {
   "cell_type": "code",
   "execution_count": 3,
   "source": [
    "data.head()"
   ],
   "outputs": [
    {
     "output_type": "execute_result",
     "data": {
      "text/html": [
       "<div>\n",
       "<style scoped>\n",
       "    .dataframe tbody tr th:only-of-type {\n",
       "        vertical-align: middle;\n",
       "    }\n",
       "\n",
       "    .dataframe tbody tr th {\n",
       "        vertical-align: top;\n",
       "    }\n",
       "\n",
       "    .dataframe thead th {\n",
       "        text-align: right;\n",
       "    }\n",
       "</style>\n",
       "<table border=\"1\" class=\"dataframe\">\n",
       "  <thead>\n",
       "    <tr style=\"text-align: right;\">\n",
       "      <th></th>\n",
       "      <th>country</th>\n",
       "      <th>age</th>\n",
       "      <th>new_user</th>\n",
       "      <th>source</th>\n",
       "      <th>total_pages_visited</th>\n",
       "      <th>converted</th>\n",
       "    </tr>\n",
       "  </thead>\n",
       "  <tbody>\n",
       "    <tr>\n",
       "      <th>0</th>\n",
       "      <td>China</td>\n",
       "      <td>22</td>\n",
       "      <td>1</td>\n",
       "      <td>Direct</td>\n",
       "      <td>2</td>\n",
       "      <td>0</td>\n",
       "    </tr>\n",
       "    <tr>\n",
       "      <th>1</th>\n",
       "      <td>UK</td>\n",
       "      <td>21</td>\n",
       "      <td>1</td>\n",
       "      <td>Ads</td>\n",
       "      <td>3</td>\n",
       "      <td>0</td>\n",
       "    </tr>\n",
       "    <tr>\n",
       "      <th>2</th>\n",
       "      <td>Germany</td>\n",
       "      <td>20</td>\n",
       "      <td>0</td>\n",
       "      <td>Seo</td>\n",
       "      <td>14</td>\n",
       "      <td>1</td>\n",
       "    </tr>\n",
       "    <tr>\n",
       "      <th>3</th>\n",
       "      <td>US</td>\n",
       "      <td>23</td>\n",
       "      <td>1</td>\n",
       "      <td>Seo</td>\n",
       "      <td>3</td>\n",
       "      <td>0</td>\n",
       "    </tr>\n",
       "    <tr>\n",
       "      <th>4</th>\n",
       "      <td>US</td>\n",
       "      <td>28</td>\n",
       "      <td>1</td>\n",
       "      <td>Direct</td>\n",
       "      <td>3</td>\n",
       "      <td>0</td>\n",
       "    </tr>\n",
       "  </tbody>\n",
       "</table>\n",
       "</div>"
      ],
      "text/plain": [
       "   country  age  new_user  source  total_pages_visited  converted\n",
       "0    China   22         1  Direct                    2          0\n",
       "1       UK   21         1     Ads                    3          0\n",
       "2  Germany   20         0     Seo                   14          1\n",
       "3       US   23         1     Seo                    3          0\n",
       "4       US   28         1  Direct                    3          0"
      ]
     },
     "metadata": {},
     "execution_count": 3
    }
   ],
   "metadata": {}
  },
  {
   "cell_type": "markdown",
   "source": [
    "# Explore dataset"
   ],
   "metadata": {
    "colab_type": "text",
    "id": "0XwjKBc63B1n"
   }
  },
  {
   "cell_type": "code",
   "execution_count": 4,
   "source": [
    "# The dataset is quite big : you must create a sample of the dataset before making any visualizations !\r\n",
    "data_sample = data.sample(10000)"
   ],
   "outputs": [],
   "metadata": {
    "colab": {},
    "colab_type": "code",
    "id": "NM0feCss5sLZ"
   }
  },
  {
   "cell_type": "code",
   "execution_count": 9,
   "source": [
    "#We will visualize if there are correlations between the converted variable and the others\r\n",
    "\r\n",
    "corr = data_sample.corr()\r\n",
    "sns.heatmap(corr,annot=True)\r\n",
    "\r\n",
    "#Pages visited seems to be the only significant variable on the converted rate\r\n",
    "#We will check the relation between the two \r\n",
    "\r\n",
    "sns.relplot(x=data_sample[\"total_pages_visited\"],y=data_sample[\"converted\"],kind=\"line\")"
   ],
   "outputs": [
    {
     "output_type": "execute_result",
     "data": {
      "text/plain": [
       "<seaborn.axisgrid.FacetGrid at 0x1713c98db80>"
      ]
     },
     "metadata": {},
     "execution_count": 9
    },
    {
     "output_type": "display_data",
     "data": {
      "image/png": "[encoded data removed]",
      "text/plain": [
       "<Figure size 432x288 with 2 Axes>"
      ]
     },
     "metadata": {
      "needs_background": "light"
     }
    },
    {
     "output_type": "display_data",
     "data": {
      "image/png": "[encoded data removed]",
      "text/plain": [
       "<Figure size 360x360 with 1 Axes>"
      ]
     },
     "metadata": {
      "needs_background": "light"
     }
    }
   ],
   "metadata": {}
  },
  {
   "cell_type": "markdown",
   "source": [
    "# Make your model"
   ],
   "metadata": {
    "colab_type": "text",
    "id": "70MwsoCS3QD5"
   }
  },
  {
   "cell_type": "markdown",
   "source": [
    "## Choose variables to use in the model, and create train and test sets\n",
    "**From the EDA, we know that the most useful feature is total_pages_visited. Let's create a baseline model by using at first only this feature : in the next cells, we'll make preprocessings and train a simple (univariate) logistic regression.**"
   ],
   "metadata": {
    "colab_type": "text",
    "id": "dPh1qPTf3wZU"
   }
  },
  {
   "cell_type": "code",
   "execution_count": 5,
   "source": [
    "features_list = ['total_pages_visited']\r\n",
    "numeric_indices = [0]\r\n",
    "categorical_indices = []\r\n",
    "target_variable = 'converted'"
   ],
   "outputs": [],
   "metadata": {
    "colab": {},
    "colab_type": "code",
    "id": "sjEHMGoY3kMB"
   }
  },
  {
   "cell_type": "code",
   "execution_count": 6,
   "source": [
    "X = data.loc[:, features_list]\r\n",
    "Y = data.loc[:, target_variable]\r\n",
    "\r\n",
    "print('Explanatory variables : ', X.columns)\r\n",
    "print()"
   ],
   "outputs": [
    {
     "output_type": "stream",
     "name": "stdout",
     "text": [
      "Explanatory variables :  Index(['total_pages_visited'], dtype='object')\n",
      "\n"
     ]
    }
   ],
   "metadata": {
    "colab": {
     "base_uri": "https://localhost:8080/",
     "height": 50
    },
    "colab_type": "code",
    "id": "SV5E9KMs4xcq",
    "outputId": "9d1ed76e-e82e-45e7-f3e5-6d47962caa5a"
   }
  },
  {
   "cell_type": "code",
   "execution_count": 7,
   "source": [
    "# Divide dataset Train set & Test set \r\n",
    "print(\"Dividing into train and test sets...\")\r\n",
    "X_train, X_test, Y_train, Y_test = train_test_split(X, Y, test_size=0.1, random_state=0)\r\n",
    "print(\"...Done.\")\r\n",
    "print()"
   ],
   "outputs": [
    {
     "output_type": "stream",
     "name": "stdout",
     "text": [
      "Dividing into train and test sets...\n",
      "...Done.\n",
      "\n"
     ]
    }
   ],
   "metadata": {
    "colab": {
     "base_uri": "https://localhost:8080/",
     "height": 67
    },
    "colab_type": "code",
    "id": "W8K5DQEvvQgl",
    "outputId": "d280ebc9-4d4b-4723-b9fe-32513f898abc"
   }
  },
  {
   "cell_type": "code",
   "execution_count": 8,
   "source": [
    "# Convert pandas DataFrames to numpy arrays before using scikit-learn\r\n",
    "print(\"Convert pandas DataFrames to numpy arrays...\")\r\n",
    "X_train = X_train.values\r\n",
    "X_test = X_test.values\r\n",
    "Y_train = Y_train.values\r\n",
    "Y_test = Y_test.values\r\n",
    "print(\"...Done\")\r\n",
    "\r\n",
    "print(X_train[0:5,:])\r\n",
    "print(X_test[0:2,:])\r\n",
    "print()\r\n",
    "print(Y_train[0:5])\r\n",
    "print(Y_test[0:2])"
   ],
   "outputs": [
    {
     "output_type": "stream",
     "name": "stdout",
     "text": [
      "Convert pandas DataFrames to numpy arrays...\n",
      "...Done\n",
      "[[4]\n",
      " [8]\n",
      " [2]\n",
      " [3]\n",
      " [4]]\n",
      "[[7]\n",
      " [5]]\n",
      "\n",
      "[0 0 0 0 0]\n",
      "[0 0]\n"
     ]
    }
   ],
   "metadata": {
    "colab": {
     "base_uri": "https://localhost:8080/",
     "height": 218
    },
    "colab_type": "code",
    "id": "vVu0eXQD4xVc",
    "outputId": "83a5f553-f50d-44dc-d12a-6cb21e74e4d7"
   }
  },
  {
   "cell_type": "markdown",
   "source": [
    "## Training pipeline"
   ],
   "metadata": {
    "colab_type": "text",
    "id": "7b_aU7ij7K3Q"
   }
  },
  {
   "cell_type": "code",
   "execution_count": 9,
   "source": [
    "# Put here all the preprocessings\r\n",
    "print(\"Encoding categorical features and standardizing numerical features...\")\r\n",
    "\r\n",
    "featureencoder = StandardScaler()\r\n",
    "X_train = featureencoder.fit_transform(X_train)\r\n",
    "print(\"...Done\")\r\n",
    "print(X_train[0:5,:])"
   ],
   "outputs": [
    {
     "output_type": "stream",
     "name": "stdout",
     "text": [
      "Encoding categorical features and standardizing numerical features...\n",
      "...Done\n",
      "[[-0.26070136]\n",
      " [ 0.93728655]\n",
      " [-0.85969532]\n",
      " [-0.56019834]\n",
      " [-0.26070136]]\n"
     ]
    }
   ],
   "metadata": {
    "colab": {
     "base_uri": "https://localhost:8080/",
     "height": 235
    },
    "colab_type": "code",
    "id": "_9bEZ5bn7I5Z",
    "outputId": "ad5c8f97-2d25-4827-f1ee-43c665a97fa0"
   }
  },
  {
   "cell_type": "code",
   "execution_count": 10,
   "source": [
    "# Train model\r\n",
    "print(\"Train model...\")\r\n",
    "classifier = LogisticRegression() # \r\n",
    "classifier.fit(X_train, Y_train)\r\n",
    "print(\"...Done.\")"
   ],
   "outputs": [
    {
     "output_type": "stream",
     "name": "stdout",
     "text": [
      "Train model...\n",
      "...Done.\n"
     ]
    }
   ],
   "metadata": {
    "colab": {
     "base_uri": "https://localhost:8080/",
     "height": 104
    },
    "colab_type": "code",
    "id": "1qhidLbq7o-5",
    "outputId": "6bfb746c-1ff4-41c9-b0d6-a98fd09a444d"
   }
  },
  {
   "cell_type": "code",
   "execution_count": 11,
   "source": [
    "# Predictions on training set\r\n",
    "print(\"Predictions on training set...\")\r\n",
    "Y_train_pred = classifier.predict(X_train)\r\n",
    "print(\"...Done.\")\r\n",
    "print(Y_train_pred)\r\n",
    "print()"
   ],
   "outputs": [
    {
     "output_type": "stream",
     "name": "stdout",
     "text": [
      "Predictions on training set...\n",
      "...Done.\n",
      "[0 0 0 ... 0 0 0]\n",
      "\n"
     ]
    }
   ],
   "metadata": {
    "colab": {
     "base_uri": "https://localhost:8080/",
     "height": 84
    },
    "colab_type": "code",
    "id": "Au2TK_vw7rD-",
    "outputId": "702789a8-4631-4c29-f297-e4b2901f3195"
   }
  },
  {
   "cell_type": "markdown",
   "source": [
    "## Test pipeline"
   ],
   "metadata": {
    "colab_type": "text",
    "id": "7TY_v9uH_CE7"
   }
  },
  {
   "cell_type": "code",
   "execution_count": 12,
   "source": [
    "# Use X_test, and the same preprocessings as in training pipeline, \r\n",
    "# but call \"transform()\" instead of \"fit_transform\" methods (see example below)\r\n",
    "\r\n",
    "print(\"Encoding categorical features and standardizing numerical features...\")\r\n",
    "\r\n",
    "X_test = featureencoder.transform(X_test)\r\n",
    "print(\"...Done\")\r\n",
    "print(X_test[0:5,:])"
   ],
   "outputs": [
    {
     "output_type": "stream",
     "name": "stdout",
     "text": [
      "Encoding categorical features and standardizing numerical features...\n",
      "...Done\n",
      "[[ 0.63778957]\n",
      " [ 0.03879562]\n",
      " [-0.26070136]\n",
      " [-0.26070136]\n",
      " [ 0.63778957]]\n"
     ]
    }
   ],
   "metadata": {
    "colab": {
     "base_uri": "https://localhost:8080/",
     "height": 134
    },
    "colab_type": "code",
    "id": "ngOSdG6-_Cvb",
    "outputId": "1e19e8ee-222f-413b-9bc0-e9f41dcca1c0"
   }
  },
  {
   "cell_type": "code",
   "execution_count": 13,
   "source": [
    "# Predictions on test set\r\n",
    "print(\"Predictions on test set...\")\r\n",
    "Y_test_pred = classifier.predict(X_test)\r\n",
    "print(\"...Done.\")\r\n",
    "print(Y_test_pred)\r\n",
    "print()"
   ],
   "outputs": [
    {
     "output_type": "stream",
     "name": "stdout",
     "text": [
      "Predictions on test set...\n",
      "...Done.\n",
      "[0 0 0 ... 0 0 0]\n",
      "\n"
     ]
    }
   ],
   "metadata": {
    "colab": {
     "base_uri": "https://localhost:8080/",
     "height": 84
    },
    "colab_type": "code",
    "id": "QS1XrzzE_jQI",
    "outputId": "866a96d2-4180-4bd1-ce54-ba052e75d485"
   }
  },
  {
   "cell_type": "markdown",
   "source": [
    "## Performance assessment"
   ],
   "metadata": {
    "colab_type": "text",
    "id": "zxJCTlz0_2it"
   }
  },
  {
   "cell_type": "code",
   "execution_count": 14,
   "source": [
    "# WARNING : Use the same score as the one that will be used by Kaggle !\r\n",
    "# Here, the f1-score will be used to assess the performances on the leaderboard\r\n",
    "print(\"f1-score on train set : \", f1_score(Y_train, Y_train_pred))\r\n",
    "print(\"f1-score on test set : \", f1_score(Y_test, Y_test_pred))"
   ],
   "outputs": [
    {
     "output_type": "stream",
     "name": "stdout",
     "text": [
      "f1-score on train set :  0.6938517686692869\n",
      "f1-score on test set :  0.7060240963855423\n"
     ]
    }
   ],
   "metadata": {
    "colab": {
     "base_uri": "https://localhost:8080/",
     "height": 50
    },
    "colab_type": "code",
    "id": "6x7p1nyr_3UV",
    "outputId": "8e5b91ba-ca06-4486-d808-37a6aaaa8cf7"
   }
  },
  {
   "cell_type": "code",
   "execution_count": 15,
   "source": [
    "# You can also check more performance metrics to better understand what your model is doing\r\n",
    "print(\"Confusion matrix on train set : \")\r\n",
    "print(confusion_matrix(Y_train, Y_train_pred))\r\n",
    "print()\r\n",
    "print(\"Confusion matrix on test set : \")\r\n",
    "print(confusion_matrix(Y_test, Y_test_pred))\r\n",
    "print()"
   ],
   "outputs": [
    {
     "output_type": "stream",
     "name": "stdout",
     "text": [
      "Confusion matrix on train set : \n",
      "[[246817   1082]\n",
      " [  3280   4943]]\n",
      "\n",
      "Confusion matrix on test set : \n",
      "[[27384   117]\n",
      " [  371   586]]\n",
      "\n"
     ]
    }
   ],
   "metadata": {
    "colab": {
     "base_uri": "https://localhost:8080/",
     "height": 151
    },
    "colab_type": "code",
    "id": "KhDTCeBy__JK",
    "outputId": "72c82d66-d765-437e-e9ef-4ccc80e7183f"
   }
  },
  {
   "cell_type": "markdown",
   "source": [
    "**Our baseline model reaches a f1-score of almost 70%. Now, feel free to refine your model and try to beat this score ! 🚀🚀**"
   ],
   "metadata": {}
  },
  {
   "cell_type": "markdown",
   "source": [
    "# Train best classifier on all data and use it to make predictions on X_without_labels\n",
    "**Before making predictions on the file conversion_data_test.csv, let's train our model on ALL the data that was in conversion_data_train.csv. Sometimes, this allows to make tiny improvements in the score because we're using more examples to train the model.**"
   ],
   "metadata": {
    "colab_type": "text",
    "id": "6tVVDRABv91O"
   }
  },
  {
   "cell_type": "code",
   "execution_count": 16,
   "source": [
    "# Concatenate our train and test set to train your best classifier on all data with labels\r\n",
    "X = np.append(X_train,X_test,axis=0)\r\n",
    "Y = np.append(Y_train,Y_test)\r\n",
    "\r\n",
    "classifier.fit(X,Y)"
   ],
   "outputs": [
    {
     "output_type": "execute_result",
     "data": {
      "text/plain": [
       "LogisticRegression()"
      ]
     },
     "metadata": {},
     "execution_count": 16
    }
   ],
   "metadata": {
    "colab": {
     "base_uri": "https://localhost:8080/",
     "height": 154
    },
    "colab_type": "code",
    "id": "M14RHUadzE2p",
    "outputId": "abcfcfec-9461-4579-adbd-f23270f984eb"
   }
  },
  {
   "cell_type": "code",
   "execution_count": 17,
   "source": [
    "# Read data without labels\r\n",
    "data_without_labels = pd.read_csv('conversion_data_test.csv')\r\n",
    "print('Prediction set (without labels) :', data_without_labels.shape)\r\n",
    "\r\n",
    "# Warning : check consistency of features_list (must be the same than the features \r\n",
    "# used by your best classifier)\r\n",
    "features_list = ['total_pages_visited']\r\n",
    "X_without_labels = data_without_labels.loc[:, features_list]\r\n",
    "\r\n",
    "# Convert pandas DataFrames to numpy arrays before using scikit-learn\r\n",
    "print(\"Convert pandas DataFrames to numpy arrays...\")\r\n",
    "X_without_labels = X_without_labels.values\r\n",
    "print(\"...Done\")\r\n",
    "\r\n",
    "print(X_without_labels[0:5,:])"
   ],
   "outputs": [
    {
     "output_type": "stream",
     "name": "stdout",
     "text": [
      "Prediction set (without labels) : (31620, 5)\n",
      "Convert pandas DataFrames to numpy arrays...\n",
      "...Done\n",
      "[[16]\n",
      " [ 5]\n",
      " [ 1]\n",
      " [ 6]\n",
      " [ 3]]\n"
     ]
    }
   ],
   "metadata": {
    "colab": {
     "base_uri": "https://localhost:8080/",
     "height": 151
    },
    "colab_type": "code",
    "id": "Tr4CEaPzzbP-",
    "outputId": "f0d1c8ed-be4b-4974-d7b9-f23a49344d9d"
   }
  },
  {
   "cell_type": "code",
   "execution_count": 18,
   "source": [
    "# WARNING : PUT HERE THE SAME PREPROCESSING AS FOR YOUR TEST SET\r\n",
    "# CHECK YOU ARE USING X_without_labels\r\n",
    "print(\"Encoding categorical features and standardizing numerical features...\")\r\n",
    "\r\n",
    "X_without_labels = featureencoder.transform(X_without_labels)\r\n",
    "print(\"...Done\")\r\n",
    "print(X_without_labels[0:5,:])"
   ],
   "outputs": [
    {
     "output_type": "stream",
     "name": "stdout",
     "text": [
      "Encoding categorical features and standardizing numerical features...\n",
      "...Done\n",
      "[[ 3.33326238]\n",
      " [ 0.03879562]\n",
      " [-1.15919229]\n",
      " [ 0.3382926 ]\n",
      " [-0.56019834]]\n"
     ]
    }
   ],
   "metadata": {
    "colab": {
     "base_uri": "https://localhost:8080/",
     "height": 134
    },
    "colab_type": "code",
    "id": "LoUISfsT0HMR",
    "outputId": "e42dc389-5e77-4e13-ccbc-1fef4aa2c0ca"
   }
  },
  {
   "cell_type": "code",
   "execution_count": 19,
   "source": [
    "# Make predictions and dump to file\r\n",
    "# WARNING : MAKE SURE THE FILE IS A CSV WITH ONE COLUMN NAMED 'converted' AND NO INDEX !\r\n",
    "# WARNING : FILE NAME MUST HAVE FORMAT 'conversion_data_test_predictions_[name].csv'\r\n",
    "# where [name] is the name of your team/model separated by a '-'\r\n",
    "# For example : [name] = AURELIE-model1\r\n",
    "data = {\r\n",
    "    'converted': classifier.predict(X_without_labels)\r\n",
    "}\r\n",
    "\r\n",
    "Y_predictions = pd.DataFrame(columns=['converted'],data=data)\r\n",
    "Y_predictions.to_csv('conversion_data_test_predictions_EXAMPLE.csv', index=False)\r\n"
   ],
   "outputs": [],
   "metadata": {
    "colab": {},
    "colab_type": "code",
    "id": "7DuWSEHuwEQJ"
   }
  },
  {
   "cell_type": "markdown",
   "source": [
    "## Analyzing the coefficients and interpreting the result\n",
    "**In this template, we just trained a model with only one feature (total_pages_visited), so there's no analysis to be done about the feature importance 🤔**\n",
    "\n",
    "**Once you've included more features in your model, please take some time to analyze the model's parameters and try to find some lever for action to improve the newsletter's conversion rate 😎😎**"
   ],
   "metadata": {}
  }
 ],
 "metadata": {
  "colab": {
   "collapsed_sections": [],
   "name": "Projets_template.ipynb",
   "provenance": []
  },
  "kernelspec": {
   "name": "python3",
   "display_name": "Python 3.9.6 64-bit"
  },
  "language_info": {
   "codemirror_mode": {
    "name": "ipython",
    "version": 3
   },
   "file_extension": ".py",
   "mimetype": "text/x-python",
   "name": "python",
   "nbconvert_exporter": "python",
   "pygments_lexer": "ipython3",
   "version": "3.9.6"
  },
  "interpreter": {
   "hash": "639f361ad657fd45530bdd3e74f62afebc8edc35ba6ab7eef1042ba440bc9585"
  }
 },
 "nbformat": 4,
 "nbformat_minor": 4
}