{
 "cells": [
  {
   "cell_type": "code",
   "execution_count": 1,
   "source": [
    "import pandas as pd\r\n",
    "import seaborn as sns\r\n",
    "import unidecode\r\n",
    "import spacy\r\n",
    "import en_core_web_sm\r\n",
    "from spacy.lang.en.stop_words import STOP_WORDS\r\n",
    "import matplotlib.pyplot as plt\r\n",
    "import re\r\n",
    "import ast\r\n",
    "import numpy as np\r\n",
    "import os\r\n",
    "import io\r\n",
    "import tensorflow as tf\r\n",
    "from sklearn.metrics import matthews_corrcoef\r\n",
    "from tensorflow.keras import Sequential\r\n",
    "from tensorflow.keras.layers import Dense, Embedding, GlobalAveragePooling1D\r\n",
    "from tensorflow.keras.layers.experimental.preprocessing import TextVectorization"
   ],
   "outputs": [],
   "metadata": {}
  },
  {
   "cell_type": "code",
   "execution_count": 2,
   "source": [
    "df_train = pd.read_csv(\"tweet_train.csv\")\r\n",
    "df_test = pd.read_csv(\"tweet_test.csv\")\r\n",
    "pd.set_option(\"max_colwidth\", 200)\r\n",
    "pd.options.display.max_rows = 999"
   ],
   "outputs": [],
   "metadata": {}
  },
  {
   "cell_type": "code",
   "execution_count": 3,
   "source": [
    "df_train.head()"
   ],
   "outputs": [
    {
     "output_type": "execute_result",
     "data": {
      "text/html": [
       "<div>\n",
       "<style scoped>\n",
       "    .dataframe tbody tr th:only-of-type {\n",
       "        vertical-align: middle;\n",
       "    }\n",
       "\n",
       "    .dataframe tbody tr th {\n",
       "        vertical-align: top;\n",
       "    }\n",
       "\n",
       "    .dataframe thead th {\n",
       "        text-align: right;\n",
       "    }\n",
       "</style>\n",
       "<table border=\"1\" class=\"dataframe\">\n",
       "  <thead>\n",
       "    <tr style=\"text-align: right;\">\n",
       "      <th></th>\n",
       "      <th>id</th>\n",
       "      <th>keyword</th>\n",
       "      <th>location</th>\n",
       "      <th>text</th>\n",
       "      <th>target</th>\n",
       "    </tr>\n",
       "  </thead>\n",
       "  <tbody>\n",
       "    <tr>\n",
       "      <th>0</th>\n",
       "      <td>1</td>\n",
       "      <td>NaN</td>\n",
       "      <td>NaN</td>\n",
       "      <td>Our Deeds are the Reason of this #earthquake May ALLAH Forgive us all</td>\n",
       "      <td>1</td>\n",
       "    </tr>\n",
       "    <tr>\n",
       "      <th>1</th>\n",
       "      <td>4</td>\n",
       "      <td>NaN</td>\n",
       "      <td>NaN</td>\n",
       "      <td>Forest fire near La Ronge Sask. Canada</td>\n",
       "      <td>1</td>\n",
       "    </tr>\n",
       "    <tr>\n",
       "      <th>2</th>\n",
       "      <td>5</td>\n",
       "      <td>NaN</td>\n",
       "      <td>NaN</td>\n",
       "      <td>All residents asked to 'shelter in place' are being notified by officers. No other evacuation or shelter in place orders are expected</td>\n",
       "      <td>1</td>\n",
       "    </tr>\n",
       "    <tr>\n",
       "      <th>3</th>\n",
       "      <td>6</td>\n",
       "      <td>NaN</td>\n",
       "      <td>NaN</td>\n",
       "      <td>13,000 people receive #wildfires evacuation orders in California</td>\n",
       "      <td>1</td>\n",
       "    </tr>\n",
       "    <tr>\n",
       "      <th>4</th>\n",
       "      <td>7</td>\n",
       "      <td>NaN</td>\n",
       "      <td>NaN</td>\n",
       "      <td>Just got sent this photo from Ruby #Alaska as smoke from #wildfires pours into a school</td>\n",
       "      <td>1</td>\n",
       "    </tr>\n",
       "  </tbody>\n",
       "</table>\n",
       "</div>"
      ],
      "text/plain": [
       "   id keyword location  \\\n",
       "0   1     NaN      NaN   \n",
       "1   4     NaN      NaN   \n",
       "2   5     NaN      NaN   \n",
       "3   6     NaN      NaN   \n",
       "4   7     NaN      NaN   \n",
       "\n",
       "                                                                                                                                    text  \\\n",
       "0                                                                  Our Deeds are the Reason of this #earthquake May ALLAH Forgive us all   \n",
       "1                                                                                                 Forest fire near La Ronge Sask. Canada   \n",
       "2  All residents asked to 'shelter in place' are being notified by officers. No other evacuation or shelter in place orders are expected   \n",
       "3                                                                      13,000 people receive #wildfires evacuation orders in California    \n",
       "4                                               Just got sent this photo from Ruby #Alaska as smoke from #wildfires pours into a school    \n",
       "\n",
       "   target  \n",
       "0       1  \n",
       "1       1  \n",
       "2       1  \n",
       "3       1  \n",
       "4       1  "
      ]
     },
     "metadata": {},
     "execution_count": 3
    }
   ],
   "metadata": {}
  },
  {
   "cell_type": "code",
   "execution_count": 4,
   "source": [
    "df_test.head()"
   ],
   "outputs": [
    {
     "output_type": "execute_result",
     "data": {
      "text/html": [
       "<div>\n",
       "<style scoped>\n",
       "    .dataframe tbody tr th:only-of-type {\n",
       "        vertical-align: middle;\n",
       "    }\n",
       "\n",
       "    .dataframe tbody tr th {\n",
       "        vertical-align: top;\n",
       "    }\n",
       "\n",
       "    .dataframe thead th {\n",
       "        text-align: right;\n",
       "    }\n",
       "</style>\n",
       "<table border=\"1\" class=\"dataframe\">\n",
       "  <thead>\n",
       "    <tr style=\"text-align: right;\">\n",
       "      <th></th>\n",
       "      <th>id</th>\n",
       "      <th>keyword</th>\n",
       "      <th>location</th>\n",
       "      <th>text</th>\n",
       "    </tr>\n",
       "  </thead>\n",
       "  <tbody>\n",
       "    <tr>\n",
       "      <th>0</th>\n",
       "      <td>0</td>\n",
       "      <td>NaN</td>\n",
       "      <td>NaN</td>\n",
       "      <td>Just happened a terrible car crash</td>\n",
       "    </tr>\n",
       "    <tr>\n",
       "      <th>1</th>\n",
       "      <td>2</td>\n",
       "      <td>NaN</td>\n",
       "      <td>NaN</td>\n",
       "      <td>Heard about #earthquake is different cities, stay safe everyone.</td>\n",
       "    </tr>\n",
       "    <tr>\n",
       "      <th>2</th>\n",
       "      <td>3</td>\n",
       "      <td>NaN</td>\n",
       "      <td>NaN</td>\n",
       "      <td>there is a forest fire at spot pond, geese are fleeing across the street, I cannot save them all</td>\n",
       "    </tr>\n",
       "    <tr>\n",
       "      <th>3</th>\n",
       "      <td>9</td>\n",
       "      <td>NaN</td>\n",
       "      <td>NaN</td>\n",
       "      <td>Apocalypse lighting. #Spokane #wildfires</td>\n",
       "    </tr>\n",
       "    <tr>\n",
       "      <th>4</th>\n",
       "      <td>11</td>\n",
       "      <td>NaN</td>\n",
       "      <td>NaN</td>\n",
       "      <td>Typhoon Soudelor kills 28 in China and Taiwan</td>\n",
       "    </tr>\n",
       "  </tbody>\n",
       "</table>\n",
       "</div>"
      ],
      "text/plain": [
       "   id keyword location  \\\n",
       "0   0     NaN      NaN   \n",
       "1   2     NaN      NaN   \n",
       "2   3     NaN      NaN   \n",
       "3   9     NaN      NaN   \n",
       "4  11     NaN      NaN   \n",
       "\n",
       "                                                                                               text  \n",
       "0                                                                Just happened a terrible car crash  \n",
       "1                                  Heard about #earthquake is different cities, stay safe everyone.  \n",
       "2  there is a forest fire at spot pond, geese are fleeing across the street, I cannot save them all  \n",
       "3                                                          Apocalypse lighting. #Spokane #wildfires  \n",
       "4                                                     Typhoon Soudelor kills 28 in China and Taiwan  "
      ]
     },
     "metadata": {},
     "execution_count": 4
    }
   ],
   "metadata": {}
  },
  {
   "cell_type": "code",
   "execution_count": 5,
   "source": [
    "print(df_train.shape)\r\n",
    "print(df_test.shape)"
   ],
   "outputs": [
    {
     "output_type": "stream",
     "name": "stdout",
     "text": [
      "(7613, 5)\n",
      "(3263, 4)\n"
     ]
    }
   ],
   "metadata": {}
  },
  {
   "cell_type": "code",
   "execution_count": 6,
   "source": [
    "sns.countplot(df_train[\"target\"])\r\n",
    "#The training dataset is slightly imbalanced"
   ],
   "outputs": [
    {
     "output_type": "stream",
     "name": "stderr",
     "text": [
      "C:\\Users\\moham\\AppData\\Local\\Programs\\Python\\Python39\\lib\\site-packages\\seaborn\\_decorators.py:36: FutureWarning: Pass the following variable as a keyword arg: x. From version 0.12, the only valid positional argument will be `data`, and passing other arguments without an explicit keyword will result in an error or misinterpretation.\n",
      "  warnings.warn(\n"
     ]
    },
    {
     "output_type": "execute_result",
     "data": {
      "text/plain": [
       "<AxesSubplot:xlabel='target', ylabel='count'>"
      ]
     },
     "metadata": {},
     "execution_count": 6
    },
    {
     "output_type": "display_data",
     "data": {
      "image/png": "[encoded data removed]",
      "text/plain": [
       "<Figure size 432x288 with 1 Axes>"
      ]
     },
     "metadata": {
      "needs_background": "light"
     }
    }
   ],
   "metadata": {}
  },
  {
   "cell_type": "code",
   "execution_count": 7,
   "source": [
    "rng = np.random.default_rng()"
   ],
   "outputs": [],
   "metadata": {}
  },
  {
   "cell_type": "code",
   "execution_count": 8,
   "source": [
    "#Let's add a target column in the test dataset, it will serve as a random prediction\r\n",
    "df_test.loc[:,\"target\"] = \"\"\r\n",
    "df_test.loc[:,\"target\"] = rng.integers(2,size=len(df_test[\"target\"]))\r\n",
    "df_test.loc[:,\"target\"] = df_test.loc[:,\"target\"].astype(\"int64\")\r\n",
    "df_test.info(verbose=True)\r\n",
    "df_test"
   ],
   "outputs": [
    {
     "output_type": "stream",
     "name": "stdout",
     "text": [
      "<class 'pandas.core.frame.DataFrame'>\n",
      "RangeIndex: 3263 entries, 0 to 3262\n",
      "Data columns (total 5 columns):\n",
      " #   Column    Non-Null Count  Dtype \n",
      "---  ------    --------------  ----- \n",
      " 0   id        3263 non-null   int64 \n",
      " 1   keyword   3237 non-null   object\n",
      " 2   location  2158 non-null   object\n",
      " 3   text      3263 non-null   object\n",
      " 4   target    3263 non-null   int64 \n",
      "dtypes: int64(2), object(3)\n",
      "memory usage: 127.6+ KB\n"
     ]
    },
    {
     "output_type": "execute_result",
     "data": {
      "text/html": [
       "<div>\n",
       "<style scoped>\n",
       "    .dataframe tbody tr th:only-of-type {\n",
       "        vertical-align: middle;\n",
       "    }\n",
       "\n",
       "    .dataframe tbody tr th {\n",
       "        vertical-align: top;\n",
       "    }\n",
       "\n",
       "    .dataframe thead th {\n",
       "        text-align: right;\n",
       "    }\n",
       "</style>\n",
       "<table border=\"1\" class=\"dataframe\">\n",
       "  <thead>\n",
       "    <tr style=\"text-align: right;\">\n",
       "      <th></th>\n",
       "      <th>id</th>\n",
       "      <th>keyword</th>\n",
       "      <th>location</th>\n",
       "      <th>text</th>\n",
       "      <th>target</th>\n",
       "    </tr>\n",
       "  </thead>\n",
       "  <tbody>\n",
       "    <tr>\n",
       "      <th>0</th>\n",
       "      <td>0</td>\n",
       "      <td>NaN</td>\n",
       "      <td>NaN</td>\n",
       "      <td>Just happened a terrible car crash</td>\n",
       "      <td>0</td>\n",
       "    </tr>\n",
       "    <tr>\n",
       "      <th>1</th>\n",
       "      <td>2</td>\n",
       "      <td>NaN</td>\n",
       "      <td>NaN</td>\n",
       "      <td>Heard about #earthquake is different cities, stay safe everyone.</td>\n",
       "      <td>1</td>\n",
       "    </tr>\n",
       "    <tr>\n",
       "      <th>2</th>\n",
       "      <td>3</td>\n",
       "      <td>NaN</td>\n",
       "      <td>NaN</td>\n",
       "      <td>there is a forest fire at spot pond, geese are fleeing across the street, I cannot save them all</td>\n",
       "      <td>0</td>\n",
       "    </tr>\n",
       "    <tr>\n",
       "      <th>3</th>\n",
       "      <td>9</td>\n",
       "      <td>NaN</td>\n",
       "      <td>NaN</td>\n",
       "      <td>Apocalypse lighting. #Spokane #wildfires</td>\n",
       "      <td>0</td>\n",
       "    </tr>\n",
       "    <tr>\n",
       "      <th>4</th>\n",
       "      <td>11</td>\n",
       "      <td>NaN</td>\n",
       "      <td>NaN</td>\n",
       "      <td>Typhoon Soudelor kills 28 in China and Taiwan</td>\n",
       "      <td>1</td>\n",
       "    </tr>\n",
       "    <tr>\n",
       "      <th>...</th>\n",
       "      <td>...</td>\n",
       "      <td>...</td>\n",
       "      <td>...</td>\n",
       "      <td>...</td>\n",
       "      <td>...</td>\n",
       "    </tr>\n",
       "    <tr>\n",
       "      <th>3258</th>\n",
       "      <td>10861</td>\n",
       "      <td>NaN</td>\n",
       "      <td>NaN</td>\n",
       "      <td>EARTHQUAKE SAFETY LOS ANGELES ÛÒ SAFETY FASTENERS XrWn</td>\n",
       "      <td>1</td>\n",
       "    </tr>\n",
       "    <tr>\n",
       "      <th>3259</th>\n",
       "      <td>10865</td>\n",
       "      <td>NaN</td>\n",
       "      <td>NaN</td>\n",
       "      <td>Storm in RI worse than last hurricane. My city&amp;amp;3others hardest hit. My yard looks like it was bombed. Around 20000K still without power</td>\n",
       "      <td>1</td>\n",
       "    </tr>\n",
       "    <tr>\n",
       "      <th>3260</th>\n",
       "      <td>10868</td>\n",
       "      <td>NaN</td>\n",
       "      <td>NaN</td>\n",
       "      <td>Green Line derailment in Chicago http://t.co/UtbXLcBIuY</td>\n",
       "      <td>0</td>\n",
       "    </tr>\n",
       "    <tr>\n",
       "      <th>3261</th>\n",
       "      <td>10874</td>\n",
       "      <td>NaN</td>\n",
       "      <td>NaN</td>\n",
       "      <td>MEG issues Hazardous Weather Outlook (HWO) http://t.co/3X6RBQJHn3</td>\n",
       "      <td>0</td>\n",
       "    </tr>\n",
       "    <tr>\n",
       "      <th>3262</th>\n",
       "      <td>10875</td>\n",
       "      <td>NaN</td>\n",
       "      <td>NaN</td>\n",
       "      <td>#CityofCalgary has activated its Municipal Emergency Plan. #yycstorm</td>\n",
       "      <td>1</td>\n",
       "    </tr>\n",
       "  </tbody>\n",
       "</table>\n",
       "<p>3263 rows × 5 columns</p>\n",
       "</div>"
      ],
      "text/plain": [
       "         id keyword location  \\\n",
       "0         0     NaN      NaN   \n",
       "1         2     NaN      NaN   \n",
       "2         3     NaN      NaN   \n",
       "3         9     NaN      NaN   \n",
       "4        11     NaN      NaN   \n",
       "...     ...     ...      ...   \n",
       "3258  10861     NaN      NaN   \n",
       "3259  10865     NaN      NaN   \n",
       "3260  10868     NaN      NaN   \n",
       "3261  10874     NaN      NaN   \n",
       "3262  10875     NaN      NaN   \n",
       "\n",
       "                                                                                                                                             text  \\\n",
       "0                                                                                                              Just happened a terrible car crash   \n",
       "1                                                                                Heard about #earthquake is different cities, stay safe everyone.   \n",
       "2                                                there is a forest fire at spot pond, geese are fleeing across the street, I cannot save them all   \n",
       "3                                                                                                        Apocalypse lighting. #Spokane #wildfires   \n",
       "4                                                                                                   Typhoon Soudelor kills 28 in China and Taiwan   \n",
       "...                                                                                                                                           ...   \n",
       "3258                                                                                      EARTHQUAKE SAFETY LOS ANGELES ÛÒ SAFETY FASTENERS XrWn   \n",
       "3259  Storm in RI worse than last hurricane. My city&amp;3others hardest hit. My yard looks like it was bombed. Around 20000K still without power   \n",
       "3260                                                                                      Green Line derailment in Chicago http://t.co/UtbXLcBIuY   \n",
       "3261                                                                            MEG issues Hazardous Weather Outlook (HWO) http://t.co/3X6RBQJHn3   \n",
       "3262                                                                         #CityofCalgary has activated its Municipal Emergency Plan. #yycstorm   \n",
       "\n",
       "      target  \n",
       "0          0  \n",
       "1          1  \n",
       "2          0  \n",
       "3          0  \n",
       "4          1  \n",
       "...      ...  \n",
       "3258       1  \n",
       "3259       1  \n",
       "3260       0  \n",
       "3261       0  \n",
       "3262       1  \n",
       "\n",
       "[3263 rows x 5 columns]"
      ]
     },
     "metadata": {},
     "execution_count": 8
    }
   ],
   "metadata": {}
  },
  {
   "cell_type": "code",
   "execution_count": 9,
   "source": [
    "df_test[\"target\"].value_counts()"
   ],
   "outputs": [
    {
     "output_type": "execute_result",
     "data": {
      "text/plain": [
       "1    1670\n",
       "0    1593\n",
       "Name: target, dtype: int64"
      ]
     },
     "metadata": {},
     "execution_count": 9
    }
   ],
   "metadata": {}
  },
  {
   "cell_type": "code",
   "execution_count": 10,
   "source": [
    "#Let's preprocess the two datasets\r\n",
    "\r\n",
    "nlp = en_core_web_sm.load()\r\n",
    "\r\n",
    "#First on the train set\r\n",
    "\r\n",
    "df_train[\"text\"] = df_train[\"text\"].astype(\"str\")\r\n",
    "df_train.loc[:,\"text_clean\"] = df_train[\"text\"].str.replace('\\d+', '') #delete numbers\r\n",
    "df_train.loc[:,\"text_clean\"] = df_train[\"text_clean\"].apply(lambda x: re.sub(r'http\\S+', '', x)) #delete http adresses\r\n",
    "df_train.loc[:,\"text_clean\"] = df_train[\"text_clean\"].apply(lambda x: re.sub(r'\\S*@\\S*\\s?', '', x)) #delete email addresses\r\n",
    "\r\n",
    "def deEmojify(text):\r\n",
    "    regrex_pattern = re.compile(pattern = \"[\"\r\n",
    "        u\"\\U0001F600-\\U0001F64F\"  # emoticons\r\n",
    "        u\"\\U0001F300-\\U0001F5FF\"  # symbols & pictographs\r\n",
    "        u\"\\U0001F680-\\U0001F6FF\"  # transport & map symbols\r\n",
    "        u\"\\U0001F1E0-\\U0001F1FF\"  # flags (iOS)\r\n",
    "                           \"]+\", flags = re.UNICODE)\r\n",
    "    return regrex_pattern.sub(r'',text)\r\n",
    "\r\n",
    "df_train.loc[:,\"text_clean\"] = df_train[\"text_clean\"].apply(deEmojify) #delete emojis\r\n",
    "\r\n",
    "df_train.loc[:,\"text_clean\"] = df_train[\"text_clean\"].str.replace(r\"[^A-Za-z0-9 ]+\", \" \") #replace punctuation and special characters by spaces\r\n",
    "df_train.loc[:,\"text_clean\"] = df_train[\"text_clean\"].apply(lambda x: x.lower().strip()) #lower case and remove extra spaces\r\n",
    "df_train.loc[:,\"logs_clean\"] = df_train[\"text_clean\"].apply(lambda x: \" \".join([token.lemma_ for token in nlp(x) if (token.lemma_ not in STOP_WORDS) and (token.text not in STOP_WORDS)]))\r\n",
    "\r\n",
    "#And now the same steps on the test set\r\n",
    "\r\n",
    "df_test[\"text\"] = df_test[\"text\"].astype(\"str\")\r\n",
    "df_test.loc[:,\"text_clean\"] = df_test[\"text\"].str.replace('\\d+', '') #delete numbers\r\n",
    "df_test.loc[:,\"text_clean\"] = df_test[\"text_clean\"].apply(lambda x: re.sub(r'http\\S+', '', x)) #delete http adresses\r\n",
    "df_test.loc[:,\"text_clean\"] = df_test[\"text_clean\"].apply(lambda x: re.sub(r'\\S*@\\S*\\s?', '', x)) #delete email addresses\r\n",
    "\r\n",
    "df_test.loc[:,\"text_clean\"] = df_test[\"text_clean\"].apply(deEmojify) #delete emojis\r\n",
    "\r\n",
    "df_test.loc[:,\"text_clean\"] = df_test[\"text_clean\"].str.replace(r\"[^A-Za-z0-9 ]+\", \" \") #replace punctuation and special characters by spaces\r\n",
    "df_test.loc[:,\"text_clean\"] = df_test[\"text_clean\"].apply(lambda x: x.lower().strip()) #lower case and remove extra spaces\r\n",
    "df_test.loc[:,\"logs_clean\"] = df_test[\"text_clean\"].apply(lambda x: \" \".join([token.lemma_ for token in nlp(x) if (token.lemma_ not in STOP_WORDS) and (token.text not in STOP_WORDS)]))\r\n"
   ],
   "outputs": [
    {
     "output_type": "stream",
     "name": "stderr",
     "text": [
      "<ipython-input-10-63ac35c62d3f>:8: FutureWarning: The default value of regex will change from True to False in a future version.\n",
      "  df_train.loc[:,\"text_clean\"] = df_train[\"text\"].str.replace('\\d+', '') #delete numbers\n",
      "<ipython-input-10-63ac35c62d3f>:23: FutureWarning: The default value of regex will change from True to False in a future version.\n",
      "  df_train.loc[:,\"text_clean\"] = df_train[\"text_clean\"].str.replace(r\"[^A-Za-z0-9 ]+\", \" \") #replace punctuation and special characters by spaces\n",
      "<ipython-input-10-63ac35c62d3f>:30: FutureWarning: The default value of regex will change from True to False in a future version.\n",
      "  df_test.loc[:,\"text_clean\"] = df_test[\"text\"].str.replace('\\d+', '') #delete numbers\n",
      "<ipython-input-10-63ac35c62d3f>:36: FutureWarning: The default value of regex will change from True to False in a future version.\n",
      "  df_test.loc[:,\"text_clean\"] = df_test[\"text_clean\"].str.replace(r\"[^A-Za-z0-9 ]+\", \" \") #replace punctuation and special characters by spaces\n"
     ]
    }
   ],
   "metadata": {}
  },
  {
   "cell_type": "code",
   "execution_count": 11,
   "source": [
    "#We instanciate the tokenizer and set it to keep the 1000 most common words\r\n",
    "\r\n",
    "tokenizer = tf.keras.preprocessing.text.Tokenizer(num_words=1000)\r\n",
    "\r\n",
    "#We fit the tokenizer on the preprocessed text, it will associate all unique tokens, here 1000, to an integer\r\n",
    "\r\n",
    "tokenizer.fit_on_texts(df_train.text_clean)\r\n",
    "\r\n",
    "#We transform the texts into a sequence of integers\r\n",
    "\r\n",
    "df_train.loc[:,\"text_encoded\"] = tokenizer.texts_to_sequences(df_train.text_clean)\r\n",
    "df_test.loc[:,\"text_encoded\"] = tokenizer.texts_to_sequences(df_test.text_clean)\r\n",
    "\r\n",
    "#If a text contains only stop words it will be deleted, so we calculate the length to filter those cases\r\n",
    "\r\n",
    "df_train.loc[:,\"len_text\"] = df_train[\"text_encoded\"].apply(lambda x: len(x))\r\n",
    "df_test.loc[:,\"len_text\"] = df_test[\"text_encoded\"].apply(lambda x: len(x))"
   ],
   "outputs": [
    {
     "output_type": "stream",
     "name": "stderr",
     "text": [
      "C:\\Users\\moham\\AppData\\Local\\Programs\\Python\\Python39\\lib\\site-packages\\numpy\\core\\_asarray.py:83: VisibleDeprecationWarning: Creating an ndarray from ragged nested sequences (which is a list-or-tuple of lists-or-tuples-or ndarrays with different lengths or shapes) is deprecated. If you meant to do this, you must specify 'dtype=object' when creating the ndarray\n",
      "  return array(a, dtype, copy=False, order=order)\n"
     ]
    }
   ],
   "metadata": {}
  },
  {
   "cell_type": "code",
   "execution_count": 12,
   "source": [
    "#We pad the sequences to the longest one \r\n",
    "\r\n",
    "max_train = df_train.shape[1]\r\n",
    "max_test = df_test.shape[1]\r\n",
    "max_len = max([max_train,max_test])\r\n",
    "\r\n",
    "df_pad_train = tf.keras.preprocessing.sequence.pad_sequences(df_train.text_encoded,padding=\"post\",maxlen=max_len)\r\n",
    "df_pad_test = tf.keras.preprocessing.sequence.pad_sequences(df_test.text_encoded,padding=\"post\",maxlen=max_len)\r\n",
    "\r\n",
    "target = \"target\"\r\n",
    "n_classes = 2\r\n",
    "\r\n",
    "train_data = tf.data.Dataset.from_tensor_slices((df_pad_train, df_train[target]))\r\n",
    "test_data = tf.data.Dataset.from_tensor_slices((df_pad_test,df_test[target]))\r\n",
    "y_train = df_train[target]\r\n",
    "y_test = df_test[target]"
   ],
   "outputs": [],
   "metadata": {}
  },
  {
   "cell_type": "code",
   "execution_count": 13,
   "source": [
    "train_data.take(1)"
   ],
   "outputs": [
    {
     "output_type": "execute_result",
     "data": {
      "text/plain": [
       "<TakeDataset shapes: ((9,), ()), types: (tf.int32, tf.int64)>"
      ]
     },
     "metadata": {},
     "execution_count": 13
    }
   ],
   "metadata": {}
  },
  {
   "cell_type": "code",
   "execution_count": 14,
   "source": [
    "#Let's create and look at one of the batches\r\n",
    "\r\n",
    "train_data = train_data.batch(64)\r\n",
    "test_data = test_data.batch(64)\r\n",
    "\r\n",
    "for sample_text,sample_labels in train_data.take(1):\r\n",
    "    print(sample_text,sample_labels)"
   ],
   "outputs": [
    {
     "output_type": "stream",
     "name": "stdout",
     "text": [
      "tf.Tensor(\n",
      "[[ 23   1 829   5  20 246 136  84  39]\n",
      " [186  44 215 740   0   0   0   0   0]\n",
      " [131  18  40 370 247  58   3 665  23]\n",
      " [ 60 247   3  86   0   0   0   0   0]\n",
      " [ 20 325  21  29 261  21  68   2 182]\n",
      " [371  86 830   3 640 548   4 395  44]\n",
      " [207  72 796 277 797 248   5   3   0]\n",
      " [  1   7   6  45 104   2  44   3   1]\n",
      " [ 73 247  53   3   1 573 831   1 714]\n",
      " [ 28  15   1 506   9 239   4 111 254]\n",
      " [549  60 619  21   1 262 439  34 620]\n",
      " [  6 313  70  54 156   6 313  70 248]\n",
      " [248  58 574   6 143 690   0   0   0]\n",
      " [207   3 869  35   0   0   0   0   0]\n",
      " [218   4 182 416  12   3 122  91 326]\n",
      " [ 54   8  30  93   0   0   0   0   0]\n",
      " [  6 110   0   0   0   0   0   0   0]\n",
      " [314   9   0   0   0   0   0   0   0]\n",
      " [ 14 122   9  34 764   0   0   0   0]\n",
      " [ 54   2   0   0   0   0   0   0   0]\n",
      " [ 20   9   0   0   0   0   0   0   0]\n",
      " [950   9 530   0   0   0   0   0   0]\n",
      " [110   0   0   0   0   0   0   0   0]\n",
      " [ 54   2  89   0   0   0   0   0   0]\n",
      " [  0   0   0   0   0   0   0   0   0]\n",
      " [ 40 149   6  45  19  15 219   0   0]\n",
      " [ 24   3 145 357   0   0   0   0   0]\n",
      " [110  14   0   0   0   0   0   0   0]\n",
      " [  0   0   0   0   0   0   0   0   0]\n",
      " [ 70  10  26   0   0   0   0   0   0]\n",
      " [  1 295   0   0   0   0   0   0   0]\n",
      " [622   0   0   0   0   0   0   0   0]\n",
      " [ 35 278 870   4 951   1 796 101   0]\n",
      " [326  59 798 263 622   3   0   0   0]\n",
      " [ 38  11  56 263  31 622   0   0   0]\n",
      " [165  17   1 916 145 240  13  24 622]\n",
      " [ 52  33   6  50  42 263   1 622  20]\n",
      " [  3 263 622   0   0   0   0   0   0]\n",
      " [108 799 263 622 296   5   1 279  74]\n",
      " [622  11  10 833 127   0   0   0   0]\n",
      " [269 249  38   0   0   0   0   0   0]\n",
      " [ 10  69 622   7  33  10  69 117 623]\n",
      " [  7 622 575   4  11 952 550   5  84]\n",
      " [ 11 622   0   0   0   0   0   0   0]\n",
      " [  4 263 872 622  16  14  33  36  14]\n",
      " [  3   1 145 357  10  98  37   7  16]\n",
      " [667  24 372 873   5 622   3  86 874]\n",
      " [573   1   4 128 624   1 622   0   0]\n",
      " [269 249  38   0   0   0   0   0   0]\n",
      " [ 97 205 240  11   1 241 118  17 441]\n",
      " [ 93 642 234 147 263 622   0   0   0]\n",
      " [ 93  51 151  11 622   0   0   0   0]\n",
      " [296   5   1 279  74  47 373   0   0]\n",
      " [ 74 917 263 178   3 643 622   0   0]\n",
      " [716   4 104  14   7 834   0   0   0]\n",
      " [798 263  13 622 224 800   5 918   3]\n",
      " [250 622 373 691  58   0   0   0   0]\n",
      " [189  24   2   7 205  24  26   2   1]\n",
      " [ 28   7   4  22  16  48   6  98  14]\n",
      " [ 24 372 873   5 622   3  86 874 875]\n",
      " [  3 876  18   5 622   4   0   0   0]\n",
      " [ 57   2  76  25 263 123 622   3   1]\n",
      " [622  27 835   0   0   0   0   0   0]\n",
      " [877  86   9   2   7  20  24  14 622]], shape=(64, 9), dtype=int32) tf.Tensor(\n",
      "[1 1 1 1 1 1 1 1 1 1 1 1 1 1 1 0 0 0 0 0 0 0 0 0 0 0 0 0 0 0 0 1 0 1 0 0 0\n",
      " 1 1 0 0 0 0 0 0 0 1 0 0 0 1 1 0 1 0 1 1 0 0 1 0 0 0 1], shape=(64,), dtype=int64)\n"
     ]
    }
   ],
   "metadata": {}
  },
  {
   "cell_type": "code",
   "execution_count": 15,
   "source": [
    "#Let's set the dimensionality of the representation space\r\n",
    "\r\n",
    "embedding_dim = 16\r\n",
    "\r\n",
    "#The number of words in the vocabulary\r\n",
    "\r\n",
    "vocab_size = tokenizer.num_words\r\n",
    "\r\n",
    "#And let's build the model\r\n",
    "\r\n",
    "model = Sequential([\r\n",
    "  Embedding(vocab_size+1, embedding_dim, input_shape=[9,],name=\"embedding\"), # the embedding layer\r\n",
    "  # the input dim needs to be equal to the size of the vocabulary + 1 (because of\r\n",
    "  # the zero padding)\r\n",
    "   tf.keras.layers.Flatten() ,\r\n",
    "  Dense(n_classes, activation=\"softmax\") # the prediction layer\r\n",
    "])\r\n",
    "\r\n",
    "model.summary()"
   ],
   "outputs": [
    {
     "output_type": "stream",
     "name": "stdout",
     "text": [
      "Model: \"sequential\"\n",
      "_________________________________________________________________\n",
      "Layer (type)                 Output Shape              Param #   \n",
      "=================================================================\n",
      "embedding (Embedding)        (None, 9, 16)             16016     \n",
      "_________________________________________________________________\n",
      "flatten (Flatten)            (None, 144)               0         \n",
      "_________________________________________________________________\n",
      "dense (Dense)                (None, 2)                 290       \n",
      "=================================================================\n",
      "Total params: 16,306\n",
      "Trainable params: 16,306\n",
      "Non-trainable params: 0\n",
      "_________________________________________________________________\n"
     ]
    }
   ],
   "metadata": {}
  },
  {
   "cell_type": "code",
   "execution_count": 16,
   "source": [
    "model.compile(optimizer=\"adam\",loss=tf.keras.losses.SparseCategoricalCrossentropy(),\r\n",
    "                metrics=[tf.keras.metrics.SparseCategoricalAccuracy()])"
   ],
   "outputs": [],
   "metadata": {}
  },
  {
   "cell_type": "code",
   "execution_count": 17,
   "source": [
    "history = model.fit(train_data,validation_data=test_data,epochs=20)"
   ],
   "outputs": [
    {
     "output_type": "stream",
     "name": "stdout",
     "text": [
      "Epoch 1/20\n",
      "119/119 [==============================] - 1s 2ms/step - loss: 0.6799 - sparse_categorical_accuracy: 0.5815 - val_loss: 0.7066 - val_sparse_categorical_accuracy: 0.4897\n",
      "Epoch 2/20\n",
      "119/119 [==============================] - 0s 1ms/step - loss: 0.6154 - sparse_categorical_accuracy: 0.6922 - val_loss: 0.7492 - val_sparse_categorical_accuracy: 0.4907\n",
      "Epoch 3/20\n",
      "119/119 [==============================] - 0s 1ms/step - loss: 0.5291 - sparse_categorical_accuracy: 0.7739 - val_loss: 0.8256 - val_sparse_categorical_accuracy: 0.4974\n",
      "Epoch 4/20\n",
      "119/119 [==============================] - 0s 1ms/step - loss: 0.4654 - sparse_categorical_accuracy: 0.8047 - val_loss: 0.9028 - val_sparse_categorical_accuracy: 0.4977\n",
      "Epoch 5/20\n",
      "119/119 [==============================] - 0s 1ms/step - loss: 0.4213 - sparse_categorical_accuracy: 0.8256 - val_loss: 0.9643 - val_sparse_categorical_accuracy: 0.4968\n",
      "Epoch 6/20\n",
      "119/119 [==============================] - 0s 1ms/step - loss: 0.3868 - sparse_categorical_accuracy: 0.8424 - val_loss: 1.0187 - val_sparse_categorical_accuracy: 0.5023\n",
      "Epoch 7/20\n",
      "119/119 [==============================] - 0s 1ms/step - loss: 0.3576 - sparse_categorical_accuracy: 0.8555 - val_loss: 1.0699 - val_sparse_categorical_accuracy: 0.5017\n",
      "Epoch 8/20\n",
      "119/119 [==============================] - 0s 1ms/step - loss: 0.3318 - sparse_categorical_accuracy: 0.8707 - val_loss: 1.1199 - val_sparse_categorical_accuracy: 0.5017\n",
      "Epoch 9/20\n",
      "119/119 [==============================] - 0s 1ms/step - loss: 0.3083 - sparse_categorical_accuracy: 0.8814 - val_loss: 1.1695 - val_sparse_categorical_accuracy: 0.5032\n",
      "Epoch 10/20\n",
      "119/119 [==============================] - 0s 1ms/step - loss: 0.2868 - sparse_categorical_accuracy: 0.8918 - val_loss: 1.2196 - val_sparse_categorical_accuracy: 0.5029\n",
      "Epoch 11/20\n",
      "119/119 [==============================] - 0s 1ms/step - loss: 0.2670 - sparse_categorical_accuracy: 0.9011 - val_loss: 1.2702 - val_sparse_categorical_accuracy: 0.5020\n",
      "Epoch 12/20\n",
      "119/119 [==============================] - 0s 1ms/step - loss: 0.2489 - sparse_categorical_accuracy: 0.9078 - val_loss: 1.3231 - val_sparse_categorical_accuracy: 0.5008\n",
      "Epoch 13/20\n",
      "119/119 [==============================] - 0s 1ms/step - loss: 0.2326 - sparse_categorical_accuracy: 0.9141 - val_loss: 1.3752 - val_sparse_categorical_accuracy: 0.5029\n",
      "Epoch 14/20\n",
      "119/119 [==============================] - 0s 1ms/step - loss: 0.2175 - sparse_categorical_accuracy: 0.9220 - val_loss: 1.4312 - val_sparse_categorical_accuracy: 0.5008\n",
      "Epoch 15/20\n",
      "119/119 [==============================] - 0s 1ms/step - loss: 0.2038 - sparse_categorical_accuracy: 0.9281 - val_loss: 1.4842 - val_sparse_categorical_accuracy: 0.5032\n",
      "Epoch 16/20\n",
      "119/119 [==============================] - 0s 1ms/step - loss: 0.1915 - sparse_categorical_accuracy: 0.9351 - val_loss: 1.5399 - val_sparse_categorical_accuracy: 0.4998\n",
      "Epoch 17/20\n",
      "119/119 [==============================] - 0s 1ms/step - loss: 0.1799 - sparse_categorical_accuracy: 0.9398 - val_loss: 1.5956 - val_sparse_categorical_accuracy: 0.5002\n",
      "Epoch 18/20\n",
      "119/119 [==============================] - 0s 1ms/step - loss: 0.1690 - sparse_categorical_accuracy: 0.9460 - val_loss: 1.6517 - val_sparse_categorical_accuracy: 0.4986\n",
      "Epoch 19/20\n",
      "119/119 [==============================] - 0s 1ms/step - loss: 0.1590 - sparse_categorical_accuracy: 0.9488 - val_loss: 1.7085 - val_sparse_categorical_accuracy: 0.5017\n",
      "Epoch 20/20\n",
      "119/119 [==============================] - 0s 1ms/step - loss: 0.1500 - sparse_categorical_accuracy: 0.9546 - val_loss: 1.7664 - val_sparse_categorical_accuracy: 0.4980\n"
     ]
    }
   ],
   "metadata": {}
  },
  {
   "cell_type": "code",
   "execution_count": 18,
   "source": [
    "#Visualization of the training process on the loss function\r\n",
    "plt.plot(history.history[\"loss\"],color=\"b\")\r\n",
    "plt.plot(history.history[\"val_loss\"], color=\"r\")\r\n",
    "plt.ylabel(\"loss\")\r\n",
    "plt.xlabel(\"Epochs\")\r\n",
    "plt.show()\r\n"
   ],
   "outputs": [
    {
     "output_type": "display_data",
     "data": {
      "image/png": "[encoded data removed]",
      "text/plain": [
       "<Figure size 432x288 with 1 Axes>"
      ]
     },
     "metadata": {
      "needs_background": "light"
     }
    }
   ],
   "metadata": {}
  },
  {
   "cell_type": "code",
   "execution_count": 19,
   "source": [
    "# Visualization of accuracy training \r\n",
    "plt.plot(history.history[\"sparse_categorical_accuracy\"], color=\"b\")\r\n",
    "plt.plot(history.history[\"val_sparse_categorical_accuracy\"], color=\"r\")\r\n",
    "plt.ylabel(\"accuracy\")\r\n",
    "plt.xlabel(\"Epochs\")\r\n",
    "plt.show()"
   ],
   "outputs": [
    {
     "output_type": "display_data",
     "data": {
      "image/png": "[encoded data removed]",
      "text/plain": [
       "<Figure size 432x288 with 1 Axes>"
      ]
     },
     "metadata": {
      "needs_background": "light"
     }
    }
   ],
   "metadata": {}
  },
  {
   "cell_type": "code",
   "execution_count": 20,
   "source": [
    "#Predictions on train set\r\n",
    "prob_train = model.predict(train_data)\r\n",
    "predictions_train = np.argmax(prob_train,axis=1)\r\n",
    "\r\n",
    "#Predictions on test set\r\n",
    "prob_test = model.predict(test_data)\r\n",
    "predictions_test = np.argmax(prob_test,axis=1)"
   ],
   "outputs": [],
   "metadata": {}
  },
  {
   "cell_type": "code",
   "execution_count": 21,
   "source": [
    "confusion_matrix = tf.math.confusion_matrix(y_test,predictions_test)\r\n",
    "sns.heatmap(confusion_matrix,annot=True)"
   ],
   "outputs": [
    {
     "output_type": "execute_result",
     "data": {
      "text/plain": [
       "<AxesSubplot:>"
      ]
     },
     "metadata": {},
     "execution_count": 21
    },
    {
     "output_type": "display_data",
     "data": {
      "image/png": "[encoded data removed]",
      "text/plain": [
       "<Figure size 432x288 with 2 Axes>"
      ]
     },
     "metadata": {
      "needs_background": "light"
     }
    }
   ],
   "metadata": {}
  },
  {
   "cell_type": "code",
   "execution_count": 22,
   "source": [
    "mccf_test = matthews_corrcoef(y_test, predictions_test)\r\n",
    "mccf_train = matthews_corrcoef(y_train, predictions_train)\r\n",
    "\r\n",
    "print(\"MCCF train\",mccf_train)\r\n",
    "print(\"MCCF test\",mccf_test)"
   ],
   "outputs": [
    {
     "output_type": "stream",
     "name": "stdout",
     "text": [
      "MCCF train 0.919580503256377\n",
      "MCCF test 0.0007687330978120249\n"
     ]
    }
   ],
   "metadata": {}
  },
  {
   "cell_type": "code",
   "execution_count": null,
   "source": [],
   "outputs": [],
   "metadata": {}
  }
 ],
 "metadata": {
  "orig_nbformat": 4,
  "language_info": {
   "name": "python",
   "version": "3.9.6",
   "mimetype": "text/x-python",
   "codemirror_mode": {
    "name": "ipython",
    "version": 3
   },
   "pygments_lexer": "ipython3",
   "nbconvert_exporter": "python",
   "file_extension": ".py"
  },
  "kernelspec": {
   "name": "python3",
   "display_name": "Python 3.9.6 64-bit"
  },
  "interpreter": {
   "hash": "639f361ad657fd45530bdd3e74f62afebc8edc35ba6ab7eef1042ba440bc9585"
  }
 },
 "nbformat": 4,
 "nbformat_minor": 2
}